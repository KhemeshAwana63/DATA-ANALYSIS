{
 "cells": [
  {
   "cell_type": "markdown",
   "metadata": {},
   "source": [
    "### CHAPTER 2"
   ]
  },
  {
   "cell_type": "markdown",
   "metadata": {},
   "source": [
    "**TUPLES**\n",
    "- objects in tuple that are mutable can be modified but not the immutable ones\n",
    "- when multiplying the tuple or list to a constant , the values are not copied <br>\n",
    "but only the references <br>\n",
    "-important methods -> count\n",
    "- BELOW ARE SOME STUFF THAT YOU CAN DO WITH TUPLES "
   ]
  },
  {
   "cell_type": "code",
   "execution_count": null,
   "metadata": {},
   "outputs": [],
   "source": [
    "import IPython\n",
    "tup = 1 ,2 ,3  #it creates a tuple\n",
    "tup1 = 1 ,2,(3,5) #creates a nested tuple\n",
    "a , b , c = tup # a = 1 , b = 2 , c = 3\n",
    "a1 , b1, c1 = tup1 #a1 = 1 , b1 = 2 , c1 = (3, 5)\n",
    "\n",
    "#In similar sence you can unpack them using loops\n",
    "#swapping of variables \n",
    "a = 92,34\n",
    "b = 76,54\n",
    "a , b = b , a\n",
    "print(b) #92 , 34\n",
    "print(a) #76 , 54\n",
    "\n",
    "#using *rest or some even use *_\n",
    "tup3 = 1 ,2 , 3,5 ,6\n",
    "a , b , *_ = tup3\n",
    "print(_) #3 ,5, 6"
   ]
  },
  {
   "cell_type": "markdown",
   "metadata": {},
   "source": [
    "##### LISTS\n",
    "- extend() method is better then adding two lists because of better speed <br>\n",
    "and additon creates a whole new list"
   ]
  },
  {
   "cell_type": "code",
   "execution_count": null,
   "metadata": {},
   "outputs": [],
   "source": [
    "a = [\"dwarf\",6,23]\n",
    "b = [2,67 ,\"hello\"]\n",
    "\"dwarf\" in a #you can do this type of things on everything that is iterable\n",
    "\n",
    "a.extend(b) #this is better then additon\n",
    "c = a + b \n",
    "\n",
    "c = [2,5,2,6]\n",
    "d = [\"ke\",\"hello\",\"yo\"]\n",
    "c.sort()     #for sorting make sure you have same type of objects in the list\n",
    "d.sort(key=len)"
   ]
  },
  {
   "cell_type": "markdown",
   "metadata": {},
   "source": [
    "##### DICTIONARY\n",
    "- zip() -> you can study about it in notes below\n",
    "and as we saw how we listed the key value of dictionary into list of tuples<br>\n",
    "similarly we can create dictionary through list of tuples using the zip() <br>\n",
    "- valid dictionary key type <br>\n",
    "\"Dictionary keys (or set elements) need to be hashable, which generally means they are immutable types like int, str, float, or tuples <br> containing only immutable (hashable) elements. Tuples themselves are immutable, but to be hashable (and usable as keys), all their <br> elements must also be hashable. You can check if an object is hashable by trying hash(obj).\"\n",
    "---\n",
    "- EXTRA\n",
    "---\n",
    "- when to use which method for collection in dictionary\n",
    "- get(): When reading values, with a fallback default. <br>\n",
    "pop(): When removing items, with a fallback default. <br>\n",
    "setdefault(): When updating collections in a dict <br>\n",
    "defaultdict(): When you're doing a lot of key grouping or counting. It's cleaner, faster, and reduces boilerplate."
   ]
  },
  {
   "cell_type": "code",
   "execution_count": null,
   "metadata": {},
   "outputs": [],
   "source": [
    "d1 = {\"marks\":34,\"subject\":\"science\"}\n",
    "d1[\"hello\"] = \"everyone\" #it adds a new key-value pair if not already existing\n",
    "d2 = d1.pop(\"hello\")   #deletes the key-value and returns the value\n",
    "list(d1.items()) #prints the list of tuples with both key and value"
   ]
  },
  {
   "cell_type": "code",
   "execution_count": null,
   "metadata": {},
   "outputs": [],
   "source": [
    "a = zip(range(5) , range(5))\n",
    "print(list(a))   #[(0, 0), (1, 1), (2, 2), (3, 3), (4, 4)]\n",
    "a = zip(range(5) , range(5)) #remaking it bacuase it got exhausted after print statement\n",
    "b = dict(a) #{0: 0, 1: 1, 2: 2, 3: 3, 4: 4}"
   ]
  },
  {
   "cell_type": "code",
   "execution_count": null,
   "metadata": {},
   "outputs": [],
   "source": [
    "dict = {\"sub\":\"phy\", \"marks\":56}\n",
    "\"\"\"THIS IS THE OLD WAY OF DOING STUFF\"\"\"\n",
    "if \"sub\" in dict:\n",
    "    value = dict[\"sub\"]\n",
    "else:\n",
    "    value = None #default value\n",
    "\n",
    "\"\"\"NEW WAY\"\"\"\n",
    "value = dict.get(\"sub\",None) #if default value not given it takes None by default\n",
    "value = dict.pop(\"sub\",None) #if default value not given it throws error"
   ]
  },
  {
   "cell_type": "code",
   "execution_count": 21,
   "metadata": {},
   "outputs": [],
   "source": [
    "\"\"\"collection of items\"\"\"\n",
    "words = [\"apple\", \"bat\", \"bar\", \"atom\", \"book\"]\n",
    "letter_collection = {}\n",
    "for word in words:\n",
    "    letter = word[0]\n",
    "    if letter not in letter_collection:\n",
    "        letter_collection[letter] = [word]\n",
    "    else:\n",
    "        letter_collection[letter].append(word)    #{'a': ['apple', 'atom'], 'b': ['bat', 'bar', 'book']}\n",
    "\n",
    "\"\"\"better approach\"\"\"\n",
    "for word in words:\n",
    "    letter = word[0]\n",
    "    letter_collection.setdefault(letter,[]).append(word)\n",
    "\n",
    "\"\"\"even better approach\"\"\"\n",
    "from collections import defaultdict\n",
    "letter_collection = defaultdict(list)\n",
    "for word in words:\n",
    "    letter_collection[word[0]].append(word)"
   ]
  },
  {
   "cell_type": "code",
   "execution_count": null,
   "metadata": {},
   "outputs": [],
   "source": [
    "a = \"string\"\n",
    "hash(a) #if it give output meaning it is hashable and can be used as key in dictionary."
   ]
  },
  {
   "cell_type": "markdown",
   "metadata": {},
   "source": [
    "##### SETS\n",
    "- If we pass something that is not set in methods like union , intersection ><br>\n",
    "then python converts them into set if possible\n",
    "- When using binary operators both objects must be sets\n",
    "- Sets are equal if and if their content is equal <br>\n",
    "\n",
    "## Set Methods in Python (Compact Format)\n",
    "\n",
    "`a.add(x)`: Add element `x` to set `a`.  \n",
    "`a.clear()`: Remove all elements from `a`.  \n",
    "`a.remove(x)`: Remove element `x` from `a`. Raises `KeyError` if not found.  \n",
    "`a.pop()`: Remove and return an arbitrary element from `a`.  \n",
    "`a.union(b)` or `a | b`: New set with elements from both `a` and `b`.  \n",
    "`a.update(b)` or `a |= b`: Update `a` with elements from `b`.  \n",
    "`a.intersection(b)` or `a & b`: New set with common elements from `a` and `b`.  \n",
    "`a.intersection_update(b)` or `a &= b`: Update `a` to keep only common elements.  \n",
    "`a.difference(b)` or `a - b`: New set with elements in `a` but not in `b`.  \n",
    "`a.difference_update(b)` or `a -= b`: Update `a` by removing elements in `b`.  \n",
    "`a.symmetric_difference(b)` or `a ^ b`: New set with elements in either `a` or `b`, but not both.  \n",
    "`a.symmetric_difference_update(b)` or `a ^= b`: Update `a` with elements in either `a` or `b`, but not both.  \n",
    "`a.issubset(b)` or `a <= b`: Check if all elements of `a` are in `b`.  \n",
    "`a.issuperset(b)` or `a >= b`: Check if all elements of `b` are in `a`.  \n",
    "`a.isdisjoint(b)`: Check if `a` and `b` have no elements in common.\n",
    "\n"
   ]
  },
  {
   "cell_type": "markdown",
   "metadata": {},
   "source": [
    "##### BUILT IN PYTHON SEQUENCE FUNCTIONS\n",
    "- enumerate() -> list of tuples containing the index and the value from the iterables\n",
    "- zip() -> can have as many arguments | arguments must be iterables | produces <br>\n",
    "elements equal to the shortest sequence argument\n",
    "- sorted -> it is not a list method like sort() , but vary much behave like that <br>\n",
    "- reversed function -> \n",
    "------"
   ]
  },
  {
   "cell_type": "markdown",
   "metadata": {},
   "source": [
    "##### LIST , SETS , DICTIONARY  AND NESTED LIST COMPREHENSIONS\n",
    "- Instead of using for looping over collections to make list , sets , dictionary <br> we have other python ways of doing things <br>\n",
    "1. lists -> [expression for value in collection if condition]\n",
    "2. sets -> {expression for value in collection if condition} -> but it returns unique value unlike lists\n",
    "3. dictionary -> {key_expr: value_expr for value in collection if condition}\n",
    "4. nested list -> i don't think it should be generalized"
   ]
  },
  {
   "cell_type": "code",
   "execution_count": null,
   "metadata": {},
   "outputs": [],
   "source": [
    "#list comprehensions\n",
    "collections = [\"a\", \"as\", \"bat\", \"car\", \"dove\", \"python\"]\n",
    "list = [x.upper() for x in collections if len(x) > 2]\n",
    "\n",
    "#set comprehensions\n",
    "set1 = {x.upper() for x in collections if len(x) > 2}\n",
    "\n",
    "#dictionary comprehensions\n",
    "dict = {key:val for key , val in enumerate(collections) if len(val) > 2}\n",
    "\n",
    "\"\"\"NESTED LIST COMPREHENSION\"\"\"\n",
    "nested_list = [[1, 2, 3], [4, 5, 6], [7, 8, 9]]\n",
    "result = []\n",
    "#old boring way\n",
    "for tup in nested_list:\n",
    "    for num in tup:\n",
    "        if num < 3:\n",
    "            result.append(num)\n",
    "#cool way\n",
    "[num for tup in nested_list for num in tup if num < 3]\n",
    "#miscellaneous \n",
    "[[num for num in tup] for tup in nested_list]"
   ]
  },
  {
   "cell_type": "markdown",
   "metadata": {},
   "source": [
    "##### FUNCTIONS\n",
    "- If you make a variable of same name as of global variable inside a function <br>\n",
    "then you will have to specify global otherwise  it wil make a new local variable <br>\n",
    "and for nested function you have to specify NonLocal variable\n",
    "- You can return multiple values from a single function .......in tuples of returned values\n",
    "- Functions are objects-> meaning you can deal with them as if you are dealing with a object <br>\n",
    "eg -> you can make list of functions , you can import module and use its attributes etc\n"
   ]
  },
  {
   "cell_type": "code",
   "execution_count": null,
   "metadata": {},
   "outputs": [],
   "source": [
    "#cleaning a list of strings using a function\n",
    "import re\n",
    "states = [\"   Alabama \", \"Georgia!\", \"Georgia\", \"georgia\", \"FlOrIda\",\n",
    "          \"south   carolina##\", \"West virginia?\"]\n",
    "def cleaning_string():\n",
    "    result = []\n",
    "    for val in states:\n",
    "        val = val.strip()\n",
    "        val = re.sub(\"[!#?]\",\"\",val)\n",
    "        val = val.title()\n",
    "        result.append(val)\n",
    "        return result\n",
    "    \n",
    "#a better method is that we can create a list of functions and call them one by one through a loop\n",
    "def remove_panctuation(val):\n",
    "    return re.sub(\"[!#?]\",\"\",val)\n",
    "\n",
    "clean_ops =[str.strip , remove_panctuation , str.title]\n",
    "def cleaning_the_string(clean_ops , string):\n",
    "    result = []\n",
    "    for val in string:\n",
    "        for func in clean_ops:\n",
    "            val = func(val)\n",
    "            result.append(val)\n",
    "    return result\n",
    "\n",
    "#another cool method is by using map() and reduce()\n"
   ]
  },
  {
   "cell_type": "markdown",
   "metadata": {},
   "source": [
    "##### ANONYMOUS LAMBDA FUNCTION\n",
    "-> We just saw how we created a function somewhere and passed it in the list but what <br>\n",
    "if we wanna create function write where we want to put it , that is where lambda is the king\n",
    "- overriden - if by mistake you use a python keyword and overridden it just delete it once and<br>\n",
    "everything will be fine"
   ]
  },
  {
   "cell_type": "code",
   "execution_count": null,
   "metadata": {},
   "outputs": [],
   "source": [
    "a = [2,3,4,6,7]\n",
    "def mul2(some_list , func):\n",
    "    [func(x) for x in some_list]\n",
    "hello = mul2(a , lambda x:x*2) #instead of making a function somewhere we directly made it here in the argument\n",
    "\n",
    "strings = [\"foo\", \"card\", \"bar\", \"aaaa\", \"abab\"]\n",
    "strings.sort(key=lambda x:len(set(x))) #we made the function right here "
   ]
  },
  {
   "cell_type": "markdown",
   "metadata": {},
   "source": [
    "##### ITERATOR\n",
    "- when we iterate through iterables python first converts them to iterator <br>\n",
    "you can also explicitly do it by iter()\n",
    "- these iterator can not be printer without iterating over them\n",
    "- these iterators gets exhauseted once you iterate over them\n",
    "- they are memory efficient , they don't exit in the memory like that untill you iterate over them and extract elements"
   ]
  },
  {
   "cell_type": "markdown",
   "metadata": {},
   "source": [
    "##### GENERATOR\n",
    "- generator is function that creates an iterator and using yield keyword you can pause <br>\n",
    "the iteration \n",
    "- to get all the element you can either run a loop or you can manually get using next() <br>\n",
    "taking one val at a time\n",
    "##### GENERATOR EXPRESSION\n",
    "- Basically another way of writing generator syntax -> it look just like list , set , dictionary <br>\n",
    "comprehension except here we use parenthesis instead of brackets\n",
    "- we can pass these generator as arguments because after all they are iterators\n",
    "----\n",
    "**all iterator are not generator but all generators are iterators**"
   ]
  },
  {
   "cell_type": "code",
   "execution_count": null,
   "metadata": {},
   "outputs": [],
   "source": [
    "def generator(n=10):\n",
    "    \"\"\"generator giving val -> n**2\"\"\"\n",
    "    for x in range(1,n+1):\n",
    "        yield x**2\n",
    "\n",
    "generator() #<generator object generator at 0x000001CEBBFF3B50>\n",
    "for x in generator():\n",
    "    print(x, end=\" \")\n",
    "\n",
    "gen = (num for num in range(1,5))\n",
    "gen2 = ((i , i**2) for i in range(1,6))\n",
    "gen #<generator object <genexpr> at 0x000001CEBD316D50>\n",
    "#passing them as arguments\n",
    "sum(gen) #1 4 9 16 25 36 49 64 81 100\n",
    "dict(gen2) #{1: 1, 2: 4, 3: 9, 4: 16, 5: 25}"
   ]
  },
  {
   "cell_type": "markdown",
   "metadata": {},
   "source": [
    "**itertools module**\n",
    "- It is libray that has so many in built generators"
   ]
  },
  {
   "cell_type": "code",
   "execution_count": 12,
   "metadata": {},
   "outputs": [
    {
     "name": "stdout",
     "output_type": "stream",
     "text": [
      "A ['Alan', 'Adam', 'Wes', 'Will', 'Albert', 'Steven']\n",
      "W ['Alan', 'Adam', 'Wes', 'Will', 'Albert', 'Steven']\n",
      "A ['Alan', 'Adam', 'Wes', 'Will', 'Albert', 'Steven']\n",
      "S ['Alan', 'Adam', 'Wes', 'Will', 'Albert', 'Steven']\n"
     ]
    }
   ],
   "source": [
    "\"\"\"LEARN ABOUT GROUP BY TO UNDERSTAND IT\"\"\"\n",
    "import itertools\n",
    "def letter(x):\n",
    "    return x[0]\n",
    "names = [\"Alan\", \"Adam\", \"Wes\", \"Will\", \"Albert\", \"Steven\"]\n",
    "for letter , nameS in itertools.groupby(names , letter):\n",
    "    print(letter,list(names)) #names is a generator"
   ]
  },
  {
   "cell_type": "markdown",
   "metadata": {},
   "source": [
    "##### SOME COMMON GENERATORS FROM ITERTOOLS\n",
    "- **`chain(*iterables)`**  \n",
    "  Generates a sequence by chaining iterators together. Once one is exhausted, the next begins.\n",
    "\n",
    "- **`combinations(iterable, k)`**  \n",
    "  Generates all possible k-tuples, ignoring order and without replacement.\n",
    "\n",
    "- **`permutations(iterable, k)`**  \n",
    "  Generates all possible k-tuples, respecting order.\n",
    "\n",
    "- **`groupby(iterable[, keyfunc])`**  \n",
    "  Generates `(key, sub-iterator)` for each unique key in consecutive groups.\n",
    "\n",
    "- **`product(*iterables, repeat=1)`**  \n",
    "  Generates the Cartesian product of input iterables as tuples (like nested loops).\n"
   ]
  },
  {
   "cell_type": "markdown",
   "metadata": {},
   "source": [
    "##### ERROR HANDLING IN PYTHON"
   ]
  },
  {
   "cell_type": "code",
   "execution_count": null,
   "metadata": {},
   "outputs": [],
   "source": [
    "try:\n",
    "    x = 1 / 0  # Risky code\n",
    "except ZeroDivisionError:\n",
    "    print(\"Can't divide by zero!\")  # Handles the error\n",
    "else:\n",
    "    print(\"All good!\")  # Runs if no error\n",
    "finally:\n",
    "    print(\"This always runs!\")  # Runs no matter what"
   ]
  },
  {
   "cell_type": "markdown",
   "metadata": {},
   "source": [
    "##### FILES AND THE OPERATING SYSTEM\n",
    "- reading in files happen per bytes/characters\n",
    "- you can check the encoding of file using the sys module\n",
    "- whenc decoding a line that extracted from the file in binary mode <br>\n",
    "make sure it is full formed because some character don't just take one byte but more <br>\n",
    "otherwise it will throw UnicodeDecodError\n",
    "- every line in files has EOL(end of line) so make sure to strip it while extracting lines\n",
    "- you can specify the encoding too while opening the file (it is a good habit)\n",
    "- seek() - > when using seek make sure how many bytes a character is taking other wise you <br>can mess up hard\n",
    "- tell() -> tell where are you in the file (answers in terms of bytes)"
   ]
  },
  {
   "cell_type": "markdown",
   "metadata": {},
   "source": [
    "### File Modes in Python\n",
    "\n",
    "- **`r`** : Read-only mode\n",
    "- **`w`** : Write-only mode (creates a new file or overwrites existing)\n",
    "- **`x`** : Write-only mode (creates a new file, fails if file exists)\n",
    "- **`a`** : Append mode (creates file if it doesn't exist)\n",
    "- **`r+`** : Read and write mode\n",
    "- **`b`** : Binary mode (e.g., `rb`, `wb`)\n",
    "- **`t`** : Text mode (default; auto decodes bytes to Unicode)\n"
   ]
  },
  {
   "cell_type": "markdown",
   "metadata": {},
   "source": [
    "### Common File Methods & Attributes\n",
    "\n",
    "- **`read([size])`** : Returns file data (bytes or string). Optional `size` limits bytes/chars read.\n",
    "- **`readable()`** : Returns `True` if the file supports reading.\n",
    "- **`readlines([size])`** : Returns a list of lines. Optional `size` limits total bytes.\n",
    "- **`write(string)`** : Writes `string` to the file.\n",
    "- **`writable()`** : Returns `True` if the file supports writing.\n",
    "- **`writelines(strings)`** : Writes a list/sequence of strings to the file.\n",
    "- **`close()`** : Closes the file.\n",
    "- **`flush()`** : Flushes internal buffer; forces write to disk.\n",
    "- **`seek(pos)`** : Moves file pointer to position `pos`.\n",
    "- **`seekable()`** : Returns `True` if file supports random access.\n",
    "- **`tell()`** : Returns current file pointer position.\n",
    "- **`closed`** : Returns `True` if the file is closed.\n",
    "- **`encoding`** : Returns file encoding (e.g., `UTF-8`).\n",
    "-----\n",
    "HERE IS THE EXAMPLE OF HOW TO CONVERT ONE ENCODING TO ANOTHER"
   ]
  },
  {
   "cell_type": "code",
   "execution_count": null,
   "metadata": {},
   "outputs": [],
   "source": [
    "path = \"some_random_path_of_a_file\"\n",
    "sink_path = \"sink.txt\"\n",
    "\n",
    "with open(path) as source:  # Default is text mode, probably UTF-8 here.\n",
    "    with open(sink_path, \"x\", encoding=\"iso-8859-1\") as sink:\n",
    "        sink.write(source.read())  # Read the UTF-8 text, write it as ISO-8859-1"
   ]
  }
 ],
 "metadata": {
  "kernelspec": {
   "display_name": "pydata-book",
   "language": "python",
   "name": "python3"
  },
  "language_info": {
   "codemirror_mode": {
    "name": "ipython",
    "version": 3
   },
   "file_extension": ".py",
   "mimetype": "text/x-python",
   "name": "python",
   "nbconvert_exporter": "python",
   "pygments_lexer": "ipython3",
   "version": "3.10.14"
  }
 },
 "nbformat": 4,
 "nbformat_minor": 2
}
