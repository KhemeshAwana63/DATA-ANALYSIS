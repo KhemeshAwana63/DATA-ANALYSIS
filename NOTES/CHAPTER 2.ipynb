{
 "cells": [
  {
   "cell_type": "markdown",
   "metadata": {},
   "source": [
    "### CHAPTER 2"
   ]
  },
  {
   "cell_type": "markdown",
   "metadata": {},
   "source": [
    "**TUPLES**\n",
    "- objects in tuple that are mutable can be modified but not the immutable ones\n",
    "- when multiplying the tuple or list to a constant , the values are not copied <br>\n",
    "but only the references\n",
    "-important methods -> count\n",
    "- BELOW ARE SOME STUFF THAT YOU CAN DO WITH TUPLES "
   ]
  },
  {
   "cell_type": "code",
   "execution_count": null,
   "metadata": {},
   "outputs": [],
   "source": [
    "import IPython\n",
    "tup = 1 ,2 ,3  #it creates a tuple\n",
    "tup1 = 1 ,2,(3,5) #creates a nested tuple\n",
    "a , b , c = tup # a = 1 , b = 2 , c = 3\n",
    "a1 , b1, c1 = tup1 #a1 = 1 , b1 = 2 , c1 = (3, 5)\n",
    "\n",
    "#In similar sence you can unpack them using loops\n",
    "#swapping of variables \n",
    "a = 92,34\n",
    "b = 76,54\n",
    "a , b = b , a\n",
    "print(b) #92 , 34\n",
    "print(a) #76 , 54\n",
    "\n",
    "#using *rest or some even use *_\n",
    "tup3 = 1 ,2 , 3,5 ,6\n",
    "a , b , *_ = tup3\n",
    "print(_) #3 ,5, 6"
   ]
  },
  {
   "cell_type": "markdown",
   "metadata": {},
   "source": [
    "##### LISTS\n",
    "- extend() method is better then adding two lists because of better speed <br>\n",
    "and additon creates a whole new list"
   ]
  },
  {
   "cell_type": "code",
   "execution_count": null,
   "metadata": {},
   "outputs": [],
   "source": [
    "a = [\"dwarf\",6,23]\n",
    "b = [2,67 ,\"hello\"]\n",
    "\"dwarf\" in a #you can do this type of things on everything that is iterable\n",
    "\n",
    "a.extend(b) #this is better then additon\n",
    "c = a + b \n",
    "\n",
    "c = [2,5,2,6]\n",
    "d = [\"ke\",\"hello\",\"yo\"]\n",
    "c.sort()     #for sorting make sure you have same type of objects in the list\n",
    "d.sort(key=len)"
   ]
  },
  {
   "cell_type": "markdown",
   "metadata": {},
   "source": [
    "##### DICTIONARY\n",
    "- zip() -> it takes two iterables as arguments and make list of tuples have pair of values <br>\n",
    "from both list index wise <br>\n",
    "and as we saw how we listed the key value of dictionary into list tuples<br>\n",
    "similarly we can create dictionary through list of tuples using the zip() <br>\n",
    "- valid dictionary key type <br>\n",
    "the objects in key generally have to be immutable like int , str , float or tuples given the <br>\n",
    "the objects in tuple have to be immutable , to check immutability you can check hashability\n",
    "---\n",
    "- EXTRA\n",
    "---\n",
    "- zip returns an iterator and when once it used in list making store that in some varibale <br>\n",
    "- when to use which method for collection in dictionary\n",
    "- get(): When reading values, with a fallback default. <br>\n",
    "pop(): When removing items, with a fallback default. <br>\n",
    "setdefault(): When updating collections in a dict <br>\n",
    "defaultdict(): When you're doing a lot of key grouping or counting. It's cleaner, faster, and reduces boilerplate."
   ]
  },
  {
   "cell_type": "code",
   "execution_count": null,
   "metadata": {},
   "outputs": [],
   "source": [
    "d1 = {\"marks\":34,\"subject\":\"science\"}\n",
    "d1[\"hello\"] = \"everyone\" #it adds a new key-value pair if not already existing\n",
    "d2 = d1.pop(\"hello\")   #deletes the key-value and returns the value\n",
    "list(d1.items()) #prints the list of tuples with both key and value"
   ]
  },
  {
   "cell_type": "code",
   "execution_count": null,
   "metadata": {},
   "outputs": [],
   "source": [
    "a = zip(range(5) , range(5))\n",
    "print(list(a))   #[(0, 0), (1, 1), (2, 2), (3, 3), (4, 4)]\n",
    "a = zip(range(5) , range(5)) #remaking it bacuase it got exhausted after print statement\n",
    "b = dict(a) #{0: 0, 1: 1, 2: 2, 3: 3, 4: 4}"
   ]
  },
  {
   "cell_type": "code",
   "execution_count": null,
   "metadata": {},
   "outputs": [],
   "source": [
    "dict = {\"sub\":\"phy\", \"marks\":56}\n",
    "\"\"\"THIS IS THE OLD WAY OF DOING STUFF\"\"\"\n",
    "if \"sub\" in dict:\n",
    "    value = dict[\"sub\"]\n",
    "else:\n",
    "    value = None #default value\n",
    "\n",
    "\"\"\"NEW WAY\"\"\"\n",
    "value = dict.get(\"sub\",None) #if default value not given it takes None by default\n",
    "value = dict.pop(\"sub\",None) #if default value not given it throws error"
   ]
  },
  {
   "cell_type": "code",
   "execution_count": 21,
   "metadata": {},
   "outputs": [],
   "source": [
    "\"\"\"collection of items\"\"\"\n",
    "words = [\"apple\", \"bat\", \"bar\", \"atom\", \"book\"]\n",
    "letter_collection = {}\n",
    "for word in words:\n",
    "    letter = word[0]\n",
    "    if letter not in letter_collection:\n",
    "        letter_collection[letter] = [word]\n",
    "    else:\n",
    "        letter_collection[letter].append(word)    #{'a': ['apple', 'atom'], 'b': ['bat', 'bar', 'book']}\n",
    "\n",
    "\"\"\"better approach\"\"\"\n",
    "for word in words:\n",
    "    letter = word[0]\n",
    "    letter_collection.setdefault(letter,[]).append(word)\n",
    "\n",
    "\"\"\"even better approach\"\"\"\n",
    "from collections import defaultdict\n",
    "letter_collection = defaultdict(list)\n",
    "for word in words:\n",
    "    letter_collection[word[0]].append(word)"
   ]
  },
  {
   "cell_type": "code",
   "execution_count": null,
   "metadata": {},
   "outputs": [],
   "source": [
    "a = \"string\"\n",
    "hash(a) #if it give output meaning it is hashable and can be used as key in dictionary"
   ]
  }
 ],
 "metadata": {
  "kernelspec": {
   "display_name": "pydata-book",
   "language": "python",
   "name": "python3"
  },
  "language_info": {
   "codemirror_mode": {
    "name": "ipython",
    "version": 3
   },
   "file_extension": ".py",
   "mimetype": "text/x-python",
   "name": "python",
   "nbconvert_exporter": "python",
   "pygments_lexer": "ipython3",
   "version": "3.10.14"
  }
 },
 "nbformat": 4,
 "nbformat_minor": 2
}
