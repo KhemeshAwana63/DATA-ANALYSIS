{
 "cells": [
  {
   "cell_type": "markdown",
   "metadata": {},
   "source": [
    "### CHAPTER 2"
   ]
  },
  {
   "cell_type": "markdown",
   "metadata": {},
   "source": [
    "**TUPLES**\n",
    "- objects in tuple that are mutable can be modified but not the immutable ones\n",
    "- when multiplying the tuple or list to a constant , the values are not copied <br>\n",
    "but only the references\n",
    "-important methods -> count\n",
    "- BELOW ARE SOME STUFF THAT YOU CAN DO WITH TUPLES "
   ]
  },
  {
   "cell_type": "code",
   "execution_count": null,
   "metadata": {},
   "outputs": [],
   "source": [
    "import IPython\n",
    "tup = 1 ,2 ,3  #it creates a tuple\n",
    "tup1 = 1 ,2,(3,5) #creates a nested tuple\n",
    "a , b , c = tup # a = 1 , b = 2 , c = 3\n",
    "a1 , b1, c1 = tup1 #a1 = 1 , b1 = 2 , c1 = (3, 5)\n",
    "\n",
    "#In similar sence you can unpack them using loops\n",
    "#swapping of variables \n",
    "a = 92,34\n",
    "b = 76,54\n",
    "a , b = b , a\n",
    "print(b) #92 , 34\n",
    "print(a) #76 , 54\n",
    "\n",
    "#using *rest or some even use *_\n",
    "tup3 = 1 ,2 , 3,5 ,6\n",
    "a , b , *_ = tup3\n",
    "print(_) #3 ,5, 6"
   ]
  },
  {
   "cell_type": "markdown",
   "metadata": {},
   "source": [
    "##### LISTS\n",
    "- extend() method is better then adding two lists because of better speed <br>\n",
    "and additon creates a whole new list"
   ]
  },
  {
   "cell_type": "code",
   "execution_count": null,
   "metadata": {},
   "outputs": [],
   "source": [
    "a = [\"dwarf\",6,23]\n",
    "b = [2,67 ,\"hello\"]\n",
    "\"dwarf\" in a #you can do this type of things on everything that is iterable\n",
    "\n",
    "a.extend(b) #this is better then additon\n",
    "c = a + b \n",
    "\n",
    "c = [2,5,2,6]\n",
    "d = [\"ke\",\"hello\",\"yo\"]\n",
    "c.sort()     #for sorting make sure you have same type of objects in the list\n",
    "d.sort(key=len)"
   ]
  },
  {
   "cell_type": "markdown",
   "metadata": {},
   "source": [
    "##### DICTIONARY\n",
    "- zip() -> you can study about it in notes below\n",
    "and as we saw how we listed the key value of dictionary into list tuples<br>\n",
    "similarly we can create dictionary through list of tuples using the zip() <br>\n",
    "- valid dictionary key type <br>\n",
    "the objects in key generally have to be immutable like int , str , float or tuples given the <br>\n",
    "the objects in tuple have to be immutable , to check immutability you can check hashability\n",
    "---\n",
    "- EXTRA\n",
    "---\n",
    "- when to use which method for collection in dictionary\n",
    "- get(): When reading values, with a fallback default. <br>\n",
    "pop(): When removing items, with a fallback default. <br>\n",
    "setdefault(): When updating collections in a dict <br>\n",
    "defaultdict(): When you're doing a lot of key grouping or counting. It's cleaner, faster, and reduces boilerplate."
   ]
  },
  {
   "cell_type": "code",
   "execution_count": null,
   "metadata": {},
   "outputs": [],
   "source": [
    "d1 = {\"marks\":34,\"subject\":\"science\"}\n",
    "d1[\"hello\"] = \"everyone\" #it adds a new key-value pair if not already existing\n",
    "d2 = d1.pop(\"hello\")   #deletes the key-value and returns the value\n",
    "list(d1.items()) #prints the list of tuples with both key and value"
   ]
  },
  {
   "cell_type": "code",
   "execution_count": null,
   "metadata": {},
   "outputs": [],
   "source": [
    "a = zip(range(5) , range(5))\n",
    "print(list(a))   #[(0, 0), (1, 1), (2, 2), (3, 3), (4, 4)]\n",
    "a = zip(range(5) , range(5)) #remaking it bacuase it got exhausted after print statement\n",
    "b = dict(a) #{0: 0, 1: 1, 2: 2, 3: 3, 4: 4}"
   ]
  },
  {
   "cell_type": "code",
   "execution_count": null,
   "metadata": {},
   "outputs": [],
   "source": [
    "dict = {\"sub\":\"phy\", \"marks\":56}\n",
    "\"\"\"THIS IS THE OLD WAY OF DOING STUFF\"\"\"\n",
    "if \"sub\" in dict:\n",
    "    value = dict[\"sub\"]\n",
    "else:\n",
    "    value = None #default value\n",
    "\n",
    "\"\"\"NEW WAY\"\"\"\n",
    "value = dict.get(\"sub\",None) #if default value not given it takes None by default\n",
    "value = dict.pop(\"sub\",None) #if default value not given it throws error"
   ]
  },
  {
   "cell_type": "code",
   "execution_count": 21,
   "metadata": {},
   "outputs": [],
   "source": [
    "\"\"\"collection of items\"\"\"\n",
    "words = [\"apple\", \"bat\", \"bar\", \"atom\", \"book\"]\n",
    "letter_collection = {}\n",
    "for word in words:\n",
    "    letter = word[0]\n",
    "    if letter not in letter_collection:\n",
    "        letter_collection[letter] = [word]\n",
    "    else:\n",
    "        letter_collection[letter].append(word)    #{'a': ['apple', 'atom'], 'b': ['bat', 'bar', 'book']}\n",
    "\n",
    "\"\"\"better approach\"\"\"\n",
    "for word in words:\n",
    "    letter = word[0]\n",
    "    letter_collection.setdefault(letter,[]).append(word)\n",
    "\n",
    "\"\"\"even better approach\"\"\"\n",
    "from collections import defaultdict\n",
    "letter_collection = defaultdict(list)\n",
    "for word in words:\n",
    "    letter_collection[word[0]].append(word)"
   ]
  },
  {
   "cell_type": "code",
   "execution_count": null,
   "metadata": {},
   "outputs": [],
   "source": [
    "a = \"string\"\n",
    "hash(a) #if it give output meaning it is hashable and can be used as key in dictionary."
   ]
  },
  {
   "cell_type": "markdown",
   "metadata": {},
   "source": [
    "##### SETS\n",
    "- If we pass something that is not set in methods like union , intersection ><br>\n",
    "then python converts them into set if possible\n",
    "- When using binary operators both objects must be sets\n",
    "- Sets are equal if and if their content is equal <br>\n",
    "\n",
    "| Function                           | Alternative Syntax | Description                                                        |\n",
    "|------------------------------------|--------------------|--------------------------------------------------------------------|\n",
    "| `a.add(x)`                         | N/A                | Add element `x` to set `a`.                                        |\n",
    "| `a.clear()`                        | N/A                | Remove all elements from set `a`.                                  |\n",
    "| `a.remove(x)`                      | N/A                | Remove element `x` from `a`. Raises `KeyError` if not found.       |\n",
    "| `a.pop()`                          | N/A                | Remove and return an arbitrary element from `a`.                   |\n",
    "| `a.union(b)`                       | `a | b`            | Return a new set with elements from both `a` and `b`.              |\n",
    "| `a.update(b)`                      | `a |= b`           | Update `a` with elements from `b`.                                 |\n",
    "| `a.intersection(b)`                | `a & b`            | Return a new set with elements common to `a` and `b`.              |\n",
    "| `a.intersection_update(b)`         | `a &= b`           | Update `a` to keep only elements found in both `a` and `b`.        |\n",
    "| `a.difference(b)`                  | `a - b`            | Return a new set with elements in `a` but not in `b`.              |\n",
    "| `a.difference_update(b)`           | `a -= b`           | Update `a` by removing elements found in `b`.                      |\n",
    "| `a.symmetric_difference(b)`        | `a ^ b`            | Return a new set with elements in either `a` or `b` but not both.  |\n",
    "| `a.symmetric_difference_update(b)` | `a ^= b`           | Update `a` with elements in either `a` or `b` but not both.        |\n",
    "| `a.issubset(b)`                    | `a <= b`           | Check if all elements of `a` are in `b`.                           |\n",
    "| `a.issuperset(b)`                  | `a >= b`           | Check if all elements of `b` are in `a`.                           |\n",
    "| `a.isdisjoint(b)`                  | N/A                | Check if `a` and `b` have no elements in common.                   |\n"
   ]
  },
  {
   "cell_type": "markdown",
   "metadata": {},
   "source": [
    "##### BUILT IN PYTHON SEQUENCE FUNCTIONS\n",
    "- enumerate() -> list of tuples containing the index and the value from the iterables\n",
    "- zip() -> can have as many arguments | arguments must be iterables | produces <br>\n",
    "elements equal to the shortest sequence argument\n",
    "- sorted -> it is not a list method like sort() , but vary much behave like that <br>\n",
    "- reversed function -> \n",
    "------\n",
    "**genarator**\n",
    "- Those function who returns iterator meaning once they are materialized by using list<br>\n",
    "or for looping they get exhausted , and can't be further materialized <br>\n",
    "- eg -> zip , reversed function etc"
   ]
  },
  {
   "cell_type": "markdown",
   "metadata": {},
   "source": [
    "##### LIST , SETS , DICTIONARY  AND NESTED LIST COMPREHENSIONS\n",
    "- Instead of using for looping over collections to make list , sets , dictionary <br> we have other python ways of doing things <br>\n",
    "1. lists -> [expression for value in collection if condition]\n",
    "2. sets -> {expression for value in collection if condition} -> but it returns unique value unlike lists\n",
    "3. dictionary -> {key_expr: value_expr for value in collection if condition}\n",
    "4. nested list -> i don't think it should be generalized"
   ]
  },
  {
   "cell_type": "code",
   "execution_count": null,
   "metadata": {},
   "outputs": [],
   "source": [
    "#list comprehensions\n",
    "collections = [\"a\", \"as\", \"bat\", \"car\", \"dove\", \"python\"]\n",
    "list = [x.upper() for x in collections if len(x) > 2]\n",
    "\n",
    "#set comprehensions\n",
    "set = {x.upper() for x in collections if len(x) > 2}\n",
    "\n",
    "#dictionary comprehensions\n",
    "dict = {key:val for key , val in enumerate(collections) if len(val) > 2}\n",
    "\n",
    "\"\"\"NESTED LIST COMPREHENSION\"\"\"\n",
    "nested_list = [[1, 2, 3], [4, 5, 6], [7, 8, 9]]\n",
    "result = []\n",
    "#old boring way\n",
    "for tup in nested_list:\n",
    "    for num in tup:\n",
    "        if num < 3:\n",
    "            result.append(num)\n",
    "#cool way\n",
    "[num for tup in nested_list for num in tup if num < 3]\n",
    "#miscellaneous \n",
    "[[num for num in tup] for tup in nested_list]"
   ]
  }
 ],
 "metadata": {
  "kernelspec": {
   "display_name": "pydata-book",
   "language": "python",
   "name": "python3"
  },
  "language_info": {
   "codemirror_mode": {
    "name": "ipython",
    "version": 3
   },
   "file_extension": ".py",
   "mimetype": "text/x-python",
   "name": "python",
   "nbconvert_exporter": "python",
   "pygments_lexer": "ipython3",
   "version": "3.10.14"
  }
 },
 "nbformat": 4,
 "nbformat_minor": 2
}
