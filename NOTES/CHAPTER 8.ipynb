{
 "cells": [
  {
   "cell_type": "markdown",
   "id": "615ec737",
   "metadata": {},
   "source": [
    "### Data Wrangling : Join , Combine And Reshape"
   ]
  },
  {
   "cell_type": "markdown",
   "id": "639705f3",
   "metadata": {},
   "source": [
    "Hierarchical indexing is like having a super-organized wardrobe. It’s great for:\n",
    "\n",
    "- **Reshaping data**: Using `stack()` and `unstack()` to switch between Series and DataFrame formats.\n",
    "- **Group-based operations**: Like creating pivot tables (more on this in Section 8.3).\n",
    "- **Handling complex datasets**: When data has multiple categories (e.g., sales by region and product).\n",
    "---\n",
    "- **MultiIndex is like a family tree**:  \n",
    "  Outer level (`a`, `b`, `c`) is like parents, inner level (`1`, `2`, `3`) is like kids.\n",
    "- **Unstack = spread out**:  \n",
    "  Like laying out all your rotis on a table.\n",
    "- **Stack = fold back**:  \n",
    "  Like stacking the rotis back into a pile.\n",
    "- **Partial indexing = selective munching**:  \n",
    "  Pick only the gulab jamuns you want from the sweet box!\n",
    "- **Names matter**:  \n",
    "  Giving names to index levels (`key1`, `key2`) is like labeling your dabbas so you don’t mix up dal with sabzi."
   ]
  },
  {
   "cell_type": "code",
   "execution_count": null,
   "id": "452df734",
   "metadata": {},
   "outputs": [],
   "source": [
    "import pandas as pd\n",
    "import numpy as np\n",
    "data = pd.Series(np.random.uniform(size=9),index=[[\"a\", \"a\", \"a\", \"b\", \"b\", \"c\", \"c\", \"d\",\"d\"],[1, 2, 3, 1, 3, 1, 2, 2, 3]])\n",
    "data.index #MultiIndex.from_tuples([(\"a\", 1), (\"a\", 2), (\"a\", 3), (\"b\", 1), (\"b\", 3), (\"c\", 1), (\"c\", 2), (\"d\", 2), (\"d\", 3)])\n",
    "data['b'] #Indexing\n",
    "data['b':'d'] #Slicing\n",
    "data[['a','d']] #Fancy indexing\n",
    "data.loc[:,2] #Partial indexing\n",
    "data.loc['a':'b', 1:2] #Partial slicing\n",
    "data.unstack() #Unstacking - converts to DataFrame\n",
    "(data.unstack()).stack() #Stacking - converts to Series\n",
    "\n",
    "frame = pd.DataFrame(np.arange(12).reshape((4, 3)),index=[[\"a\", \"a\", \"b\", \"b\"], [1, 2, 1, 2]],columns=[[\"Ohio\", \"Ohio\", \"Colorado\"],[\"Green\", \"Red\", \"Green\"]])\n",
    "frame.index.names = ['key1','key2'] #Setting names for index levels\n",
    "frame.columns.names = ['state','color'] #Setting names for column levels\n",
    "pd.MultiIndex.from_arrays([['Ohio' ,  'Ohio' , 'Colorado'],['Green','Red','Green']],names = ['States','Color'])"
   ]
  },
  {
   "cell_type": "markdown",
   "id": "96c4fd6b",
   "metadata": {},
   "source": [
    "**Desi Tips to Remember**\n",
    "- **swaplevel** = seat exchange: It’s just flipping two index levels, like swapping roti and naan plates. Data stays the same!\n",
    "- **sort_index** = organizing your dabba: Sort by one level or all levels to keep things neat and tidy.\n",
    "- **Sorting by level=0** = speed booster: It’s like keeping your masala box sorted so you grab spices faster.\n",
    "- **groupby with level** = summing by category: Like adding up all mithai by type (gulab jamun, jalebi) or meal time (lunch, dinner).\n",
    "- **Axis matters**: Use axis=\"columns\" for column-level operations, else it’s rows by default."
   ]
  },
  {
   "cell_type": "code",
   "execution_count": null,
   "id": "014c39ca",
   "metadata": {},
   "outputs": [],
   "source": [
    "frame.swaplevel('key1','key2') #Using lables names\n",
    "frame.swaplevel(0,1) #Using integer positions\n",
    "frame.sort_index(level= 1) #Sorting by level 1\n",
    "frame.swaplevel(0,1).sort_index(level=0) #Sorting by level 0 after swapping levels\n",
    "frame.groupby(level=0).sum() #Grouping by level 0\n",
    "frame.groupby(level = 'color',axis = 'columns').sum() #This is not allowed now you have to use transpose"
   ]
  },
  {
   "cell_type": "markdown",
   "id": "4d9cbcf1",
   "metadata": {},
   "source": [
    "**Desi Breakdown – Yeh Sab Kyun Useful Hai?**\n",
    "- **set_index**: Use this when a column (or two) makes more sense as the index.\n",
    "- **set_index**= turn columns indexes to row indexes and vice versa\n",
    "- **drop=False** -> to keep the columns as columns too (not removing them)\n",
    "- **reset_index** = flattning back to dataframe(2D)\n",
    "- **Use case** = organize or flatten: set_index organizes data hierarchically; reset_index makes it simple and flat."
   ]
  },
  {
   "cell_type": "code",
   "execution_count": null,
   "id": "ffbc1f83",
   "metadata": {},
   "outputs": [],
   "source": [
    "frame = pd.DataFrame({\n",
    "    \"a\": range(7),\n",
    "    \"b\": range(7, 0, -1),\n",
    "    \"c\": [\"one\", \"one\", \"one\", \"two\", \"two\", \"two\", \"two\"],\n",
    "    \"d\": [0, 1, 2, 0, 1, 2, 3]\n",
    "})\n",
    "frame2 = frame.set_index(['c', 'd'])\n",
    "frame2 = frame.set_index(['c','d'],drop = False) #Setting index without dropping the columns\n",
    "frame2.reset_index() #Resetting index -> flatten to dataframe(you can use on multiindex too)"
   ]
  },
  {
   "cell_type": "markdown",
   "id": "8bb4370a",
   "metadata": {},
   "source": [
    "**Merge Arguments Cheat Sheet**\n",
    "- **left**: Left DataFrame.\n",
    "- **right**: Right DataFrame.\n",
    "- **how**: Join type (inner, left, right, outer).\n",
    "- **on**: Column(s) to join on (if same in both).\n",
    "- **left_on/right_on**: Columns to join on if names differ.\n",
    "- **suffixes**: Strings to add to overlapping column names (default: _x, _y).\n",
    "- **sort**: Sort result by join keys (default: False).\n",
    "- **validate**: Check if merge is one-to-one, one-to-many, etc.\n",
    "- **indicator**: Add a _merge column to show row origin (left_only, right_only, both).\n",
    "----------\n",
    "**Tips to Remember**\n",
    "- **merge** = Inner join ,Outer join,Left/Right join ,Many-to-many\n",
    "- **suffixes** = to avoid same column name conflicts\n",
    "- Indexes get dropped: merge ignores row indexes unless you use left_index or right_index (not shown here, but we can explore if you want!)."
   ]
  },
  {
   "cell_type": "code",
   "execution_count": null,
   "id": "ddc9c5aa",
   "metadata": {},
   "outputs": [],
   "source": [
    "df1 = pd.DataFrame({\n",
    "    \"key\": [\"b\", \"b\", \"a\", \"c\", \"a\", \"a\", \"b\"],\n",
    "    \"data1\": pd.Series(range(7), dtype=\"Int64\")\n",
    "})\n",
    "df2 = pd.DataFrame({\n",
    "    \"key\": [\"a\", \"b\", \"d\"],\n",
    "    \"data2\": pd.Series(range(3), dtype=\"Int64\")\n",
    "})\n",
    "\n",
    "pd.merge(df1 , df2) #By defaul inner join\n",
    "pd.merge(df1 , df2 , on= 'key') #It is good to specify the key to avoid confusion\n",
    "pd.merge(df1 , df2 , how = 'outer') #Here is how we define the join type\n",
    "\n",
    "df3 = pd.DataFrame({\n",
    "    \"lkey\": [\"b\", \"b\", \"a\", \"c\", \"a\", \"a\", \"b\"],\n",
    "    \"data1\": pd.Series(range(7), dtype=\"Int64\")\n",
    "})\n",
    "df4 = pd.DataFrame({\n",
    "    \"rkey\": [\"a\", \"b\", \"d\"],\n",
    "    \"data2\": pd.Series(range(3), dtype=\"Int64\")\n",
    "})\n",
    "\n",
    "pd.merge(df3 , df4 , left_on = 'lkey' , right_on = 'rkey') #Using different keys\n",
    "# You can use multiple keys too , you can use suffixes to avoid confusion between the same named columns\n"
   ]
  }
 ],
 "metadata": {
  "kernelspec": {
   "display_name": "pydata-book",
   "language": "python",
   "name": "python3"
  },
  "language_info": {
   "name": "python",
   "version": "3.10.14"
  }
 },
 "nbformat": 4,
 "nbformat_minor": 5
}
