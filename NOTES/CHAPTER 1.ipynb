{
 "cells": [
  {
   "cell_type": "markdown",
   "metadata": {},
   "source": [
    "##### CHAPTER 1"
   ]
  },
  {
   "cell_type": "markdown",
   "metadata": {},
   "source": [
    "##### IPython vs Python vs Jupyter Notebook\n",
    "\n",
    "Each of these can be directly run in a terminal by simply typing their name.\n",
    "\n",
    "**python**\n",
    "- Nothing fancy. Basic Python shell. ⚠️\n",
    "\n",
    "**ipython**\n",
    "1. **Better readability**\n",
    "2. **Tab completion**\n",
    "   - Some suggestions, like methods with underscores, won't show. You’ll have to explicitly type an underscore `_` and then use tab completion.\n",
    "3. **Introspection**\n",
    "   - Use `?` before or after a variable/method to get full info.\n",
    "   - Use `??` to get even more details (like source code, if available).\n",
    "4. **Magic commands**\n",
    "   - `%lsmagic` → lists all the magic commands.\n",
    "   - `%run python_script.py` → directly runs a Python script inside IPython.\n",
    "   - `%time` → tells how much time a piece of code takes to run.\n",
    "\n",
    "**jupyter notebook**\n",
    "- Make sure you navigate to the folder where you want to open the notebook:\n",
    "- To close the notebook -> file > close and shutdown\n",
    "\n"
   ]
  },
  {
   "cell_type": "code",
   "execution_count": null,
   "metadata": {},
   "outputs": [],
   "source": [
    "import IPython\n",
    "print?\n",
    "%time print(\"hello\")\n",
    "%lsmagic"
   ]
  },
  {
   "cell_type": "markdown",
   "metadata": {},
   "source": [
    "##### SCOPE AND PASS BY REFERENCE IN PYTHON\n",
    "**Scope**\n",
    "1. Built it scopes -> Global scope -> Local scope -> Enclosed scope\n",
    "- scopes before '->' can only be accesed in the scope it is pointing towards\n",
    "2. **Reference**\n",
    "- mutable -> when changes are made on the variable that was pointing the immutable object and <br>\n",
    "then was taken for some operations those operation will also have effect on the object too\n",
    "- immutable -> when changes are done on the variable then the variable points to a new value <br>\n",
    " and the original object stays the same\n",
    "- mutable object -> list , dictionary , sets <br>\n",
    "- immutable objects -> string , integer , tuples"
   ]
  },
  {
   "cell_type": "code",
   "execution_count": null,
   "metadata": {},
   "outputs": [],
   "source": [
    "# IMMUTABLE EXAMPLE\n",
    "x = 10        # x points to 10\n",
    "y = x         # y also points to 10\n",
    "x = x + 10    # x now points to 20 (new object)\n",
    "print(y)      # y still points to 10\n",
    "\n",
    "# MUTABLE EXAMPLE\n",
    "a = [1, 2, 3, 4]\n",
    "b = a         # b points to the same list as a\n",
    "a.append(7)   # modifies the list in place\n",
    "print(b)      # b sees the change: [1, 2, 3, 4, 7]\n"
   ]
  },
  {
   "cell_type": "markdown",
   "metadata": {},
   "source": [
    "**Some Common Methods / Attributes**\n",
    "\n",
    "`capitalize()`&nbsp;&nbsp;&nbsp;&nbsp;`index()`&nbsp;&nbsp;&nbsp;&nbsp;`isspace()`&nbsp;&nbsp;&nbsp;&nbsp;`removesuffix()`&nbsp;&nbsp;&nbsp;&nbsp;`startswith()`  \n",
    "`casefold()`&nbsp;&nbsp;&nbsp;&nbsp;`isprintable()`&nbsp;&nbsp;&nbsp;&nbsp;`istitle()`&nbsp;&nbsp;&nbsp;&nbsp;`replace()`&nbsp;&nbsp;&nbsp;&nbsp;`strip()`  \n",
    "`center()`&nbsp;&nbsp;&nbsp;&nbsp;`isalnum()`&nbsp;&nbsp;&nbsp;&nbsp;`isupper()`&nbsp;&nbsp;&nbsp;&nbsp;`rfind()`&nbsp;&nbsp;&nbsp;&nbsp;`swapcase()`  \n",
    "`count()`&nbsp;&nbsp;&nbsp;&nbsp;`isalpha()`&nbsp;&nbsp;&nbsp;&nbsp;`join()`&nbsp;&nbsp;&nbsp;&nbsp;`rindex()`&nbsp;&nbsp;&nbsp;&nbsp;`title()`  \n",
    "`encode()`&nbsp;&nbsp;&nbsp;&nbsp;`isascii()`&nbsp;&nbsp;&nbsp;&nbsp;`ljust()`&nbsp;&nbsp;&nbsp;&nbsp;`rjust()`&nbsp;&nbsp;&nbsp;&nbsp;`translate()`  \n",
    "`endswith()`&nbsp;&nbsp;&nbsp;&nbsp;`isdecimal()`&nbsp;&nbsp;&nbsp;&nbsp;`lower()`&nbsp;&nbsp;&nbsp;&nbsp;`rpartition()`  \n",
    "`expandtabs()`&nbsp;&nbsp;&nbsp;&nbsp;`isdigit()`&nbsp;&nbsp;&nbsp;&nbsp;`lstrip()`&nbsp;&nbsp;&nbsp;&nbsp;`rsplit()`  \n",
    "`find()`&nbsp;&nbsp;&nbsp;&nbsp;`isidentifier()`&nbsp;&nbsp;&nbsp;&nbsp;`maketrans()`&nbsp;&nbsp;&nbsp;&nbsp;`rstrip()`  \n",
    "`format()`&nbsp;&nbsp;&nbsp;&nbsp;`islower()`&nbsp;&nbsp;&nbsp;&nbsp;`partition()`&nbsp;&nbsp;&nbsp;&nbsp;`split()`  \n",
    "`format_map()`&nbsp;&nbsp;&nbsp;&nbsp;`isnumeric()`&nbsp;&nbsp;&nbsp;&nbsp;`removeprefix()`&nbsp;&nbsp;&nbsp;&nbsp;`splitlines()`  \n"
   ]
  },
  {
   "cell_type": "markdown",
   "metadata": {},
   "source": [
    "### IS V/S ==\n",
    "1. is ->> it implies to the address of the objects\n",
    "2. == ->> it implies to the value of the objects"
   ]
  },
  {
   "cell_type": "code",
   "execution_count": null,
   "metadata": {},
   "outputs": [],
   "source": [
    "a = [7,8,9]\n",
    "b = a\n",
    "c = list(a) #list function creates a copy meaning c is not pointing to the object a is pointing to\n",
    "\n",
    "a is b #true -> both are pointing the same address\n",
    "a == b # true -> both have same value  😂ofcourse they will have\n",
    "c is a #false -> c is pointing towards copy of object that a is pointing to\n",
    "c == a #true -> even though address is different but the value is same"
   ]
  },
  {
   "cell_type": "markdown",
   "metadata": {},
   "source": [
    "##### UNICODE VS BYTES\n",
    "1. in python texts are unicode , for better readability and to convert them into bytes we have to <br>\n",
    "encode them and vice versa we can do decoding back to unicode from bytes\n",
    "2.Examples => when opening files in binary mode ,API and Web app , Networkin and Sockets\n",
    "\n",
    "**extra**\n",
    "there are multiple encodings that you can encode too.....hence stick to one encoding to avoid mess up😋"
   ]
  },
  {
   "cell_type": "code",
   "execution_count": null,
   "metadata": {},
   "outputs": [],
   "source": [
    "a = \"this is a string\" #unicode\n",
    "b = a.encode(\"utf-8\") #converting to bytes\n",
    "print(b) #it would print the encode value but not in this case because normal english alphabets have ASCII values\n",
    "\n",
    "b = b.decode(\"utf-8\")  #to change it back to unicode"
   ]
  }
 ],
 "metadata": {
  "kernelspec": {
   "display_name": "pydata-book",
   "language": "python",
   "name": "python3"
  },
  "language_info": {
   "codemirror_mode": {
    "name": "ipython",
    "version": 3
   },
   "file_extension": ".py",
   "mimetype": "text/x-python",
   "name": "python",
   "nbconvert_exporter": "python",
   "pygments_lexer": "ipython3",
   "version": "3.10.14"
  }
 },
 "nbformat": 4,
 "nbformat_minor": 2
}
