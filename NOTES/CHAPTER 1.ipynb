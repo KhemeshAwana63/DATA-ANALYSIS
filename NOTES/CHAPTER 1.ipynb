{
 "cells": [
  {
   "cell_type": "markdown",
   "metadata": {},
   "source": [
    "##### CHAPTER 1"
   ]
  },
  {
   "cell_type": "markdown",
   "metadata": {},
   "source": [
    "##### IPython vs Python vs Jupyter Notebook\n",
    "\n",
    "Each of these can be directly run in a terminal by simply typing their name.\n",
    "\n",
    "---\n",
    "\n",
    "### **python**\n",
    "- Nothing fancy. Basic Python shell. ⚠️\n",
    "\n",
    "---\n",
    "\n",
    "### **ipython**\n",
    "1. **Better readability**\n",
    "2. **Tab completion**\n",
    "   - Some suggestions, like methods with underscores, won't show. You’ll have to explicitly type an underscore `_` and then use tab completion.\n",
    "3. **Introspection**\n",
    "   - Use `?` before or after a variable/method to get full info.\n",
    "   - Use `??` to get even more details (like source code, if available).\n",
    "4. **Magic commands**\n",
    "   - `%lsmagic` → lists all the magic commands.\n",
    "   - `%run python_script.py` → directly runs a Python script inside IPython.\n",
    "   - `%time` → tells how much time a piece of code takes to run.\n",
    "\n",
    "---\n",
    "\n",
    "### **jupyter notebook**\n",
    "- Make sure you navigate to the folder where you want to open the notebook:\n",
    "- To close the notebook -> file > close and shutdown\n",
    "\n"
   ]
  },
  {
   "cell_type": "code",
   "execution_count": null,
   "metadata": {},
   "outputs": [],
   "source": [
    "import IPython\n",
    "print?\n",
    "%time print(\"hello\")\n",
    "%lsmagic"
   ]
  },
  {
   "cell_type": "markdown",
   "metadata": {},
   "source": []
  }
 ],
 "metadata": {
  "kernelspec": {
   "display_name": "pydata-book",
   "language": "python",
   "name": "python3"
  },
  "language_info": {
   "codemirror_mode": {
    "name": "ipython",
    "version": 3
   },
   "file_extension": ".py",
   "mimetype": "text/x-python",
   "name": "python",
   "nbconvert_exporter": "python",
   "pygments_lexer": "ipython3",
   "version": "3.10.14"
  }
 },
 "nbformat": 4,
 "nbformat_minor": 2
}
