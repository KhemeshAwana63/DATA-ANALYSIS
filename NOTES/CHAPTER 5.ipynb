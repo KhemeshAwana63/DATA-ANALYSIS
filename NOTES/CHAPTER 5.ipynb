{
 "cells": [
  {
   "cell_type": "markdown",
   "metadata": {},
   "source": [
    "### -------------------------------- CHAPTER 5 ---------------------------------------"
   ]
  },
  {
   "cell_type": "markdown",
   "metadata": {},
   "source": [
    "- Series -> single column excel sheet but with lables\n",
    "- DataFrames -> full fledged excel sheet but supercharged\n",
    "------\n",
    "**SERIES (PYTHON LIST WITH SOME ATTITUDE)**\n",
    "- Instead of asking where is the second element you can directly ask what's under 'ohio'😉\n",
    "- Just like NumPy arrays you can slice , dice and multiply with the series\n",
    "- Think of this as an python dictionary with indexes equivalent of keys and data -> values \n",
    "- iloc and loc -> They are for indexing and take [] brackets \n"
   ]
  },
  {
   "cell_type": "code",
   "execution_count": null,
   "metadata": {},
   "outputs": [],
   "source": [
    "import pandas as pd\n",
    "import numpy as np"
   ]
  },
  {
   "cell_type": "code",
   "execution_count": null,
   "metadata": {},
   "outputs": [],
   "source": [
    "obj = pd.Series([1, 4, -6, 8])  # Default index: 0 to len-1\n",
    "obj2 = pd.Series([1, 4, -5, 7], index=[\"a\", \"b\", \"c\", \"d\"])  # Custom index\n",
    "obj2.index = [\"c\", \"d\", \"a\", \"b\"]  # Rename index just because we can\n",
    "\n",
    "obj2[\"b\"]        # Access single value (4)\n",
    "obj2[[\"a\", \"b\", \"d\"]]  # Multiple row access like a boss\n",
    "obj2.loc[\"a\":\"c\"] #you could do it without loc too and this kind of slicing includes the last element\n",
    "\n",
    "# NumPy-like operations (because pandas = numpy + swagger)\n",
    "obj2[obj2 > 0]   # Filter positives\n",
    "obj2 * 2         # Multiply everything by 2 (easy gains)\n",
    "np.exp(obj2)     # Exponentials, no calculator needed\n",
    "\n",
    "# Series works like a dictionary (but cooler)\n",
    "\"b\" in obj2      # Membership test\n",
    "\n",
    "# Create Series from a dictionary (upgrade complete)\n",
    "sdata = {\"Ohio\": 35000, \"Texas\": 71000, \"Oregon\": 16000, \"Utah\": 5000}\n",
    "obj3 = pd.Series(sdata)\n",
    "\n",
    "obj3.to_dict()   # Back to dictionary, if you’re nostalgic\n",
    "\n",
    "# Custom index (adds NaN where data's missing)\n",
    "states = [\"California\", \"Ohio\", \"Oregon\", \"Texas\"]\n",
    "obj4 = pd.Series(sdata, index=states)\n",
    "\n",
    "pd.isna(obj4)    # True where data is missing                 obj4.isna() used as variable attribute\n",
    "pd.notna(obj4)   # False where data is missing               obj4.notna()\n",
    "\n",
    "# Automatic alignment on index when combining Series\n",
    "obj3 + obj4\n",
    "\n",
    "# Name your Series and index to feel important\n",
    "obj3.index.name = \"hello\"\n",
    "obj3.name = \"world\""
   ]
  },
  {
   "cell_type": "markdown",
   "metadata": {},
   "source": [
    "**DATAFRAMES (DF)**\n",
    "\n",
    "- A DF is a dictionary of Series sharing the same index (2D but can represent hierarchical structures).\n",
    "- Assigning a Series to a column aligns it by index; missing matches → `NaN`.\n",
    "- Transposing mixed-type columns results in `dtype=object`.\n",
    "- Nested dictionary structure:\n",
    "  - Outer keys → columns.\n",
    "  - Inner keys → indexes (missing keys → `NaN`).\n",
    "- Dot notation (`df.col`) **won’t work if**:\n",
    "  - Column names have spaces or special characters.\n",
    "  - Column names conflict with DataFrame methods.\n",
    "- Assigning lists/arrays to columns requires matching length.\n",
    "- iloc and loc -> loc[row_lable , column_lable] and for iloc[row_index , column_index] \n",
    "- In iloc is exclusive on the end and loc is inclusive on the end\n",
    "- Normal indexing with square brackets isn’t great because it makes assumptions. On a DataFrame, it defaults to columns. With numbers, it might treat them as labels, which gets confusing fast.\n",
    "\n"
   ]
  },
  {
   "cell_type": "code",
   "execution_count": null,
   "metadata": {},
   "outputs": [],
   "source": [
    "# Creating a DataFrame from a dictionary\n",
    "data = {\n",
    "    \"state\": [\"Ohio\", \"Ohio\", \"Ohio\", \"Nevada\", \"Nevada\", \"Nevada\"],\n",
    "    \"year\": [2000, 2001, 2002, 2001, 2002, 2003],\n",
    "    \"pop\": [1.5, 1.7, 3.6, 2.4, 2.9, 3.2]\n",
    "}\n",
    "frame = pd.DataFrame(data)  # keys become columns, values become data\n",
    "\n",
    "# Viewing rows (head & tail)\n",
    "frame.head()  # top 5 rows\n",
    "frame.tail()  # bottom 5 rows\n",
    "\n",
    "# Rearranging columns and adding new ones (with NaN)\n",
    "pd.DataFrame(frame, columns=[\"pop\", \"year\", \"state\"])\n",
    "pd.DataFrame(frame, columns=[\"pop\", \"year\", \"state\", \"debt\"])  # 'debt' doesn't exist yet → NaN\n",
    "\n",
    "# Accessing columns/rows -> Becomes confusing for pandas\n",
    "frame[\"pop\"]  # Series access\n",
    "frame.state   # dot notation (don't clash with method names!)\n",
    "\n",
    "# Accessing rows/columns ->`loc` uses labels (no integers allowed), `iloc` uses integers (labels? Nope).\n",
    "frame.loc[\"pop\"]   # by label (index)\n",
    "frame.iloc[2]  # by position (integer index)\n",
    "\n",
    "# Assigning values to columns\n",
    "frame[\"debt\"] = 16.5  # broadcasts to the entire column\n",
    "frame[\"pop\"] = np.arange(6.)  # replaces 'pop' with array values (lengths must match)\n",
    "val = pd.Series([12, 5, 6], index=[\"A\", \"B\", \"C\"])  # custom index Series\n",
    "frame[\"debt\"] = val  # aligns by index, missing rows → NaN\n",
    "\n",
    "# Creating and deleting columns\n",
    "frame[\"easter\"] = frame[\"state\"] == \"Ohio\"  # boolean condition as a new column\n",
    "del frame[\"easter\"]  # delete the column\n",
    "\n",
    "# Transposing the DataFrame\n",
    "frame.T  # flip rows and columns\n",
    "\n",
    "# Nested dictionary to DataFrame\n",
    "populations = {\n",
    "    \"Gotham\": {2020: 5.5, 2021: 6.0, 2022: 6.8},\n",
    "    \"Metropolis\": {2021: 8.2, 2022: 8.5}\n",
    "}\n",
    "frame = pd.DataFrame(populations)  # Outer keys = columns, inner keys = index\n",
    "# Missing data becomes NaN\n",
    "\n",
    "# Dictionary of Series to DataFrame\n",
    "pdata = {\n",
    "    \"Gotham\": frame[\"Gotham\"][:-1],        # Excludes last row (2022)\n",
    "    \"Metropolis\": frame[\"Metropolis\"][:2]  # First two rows (2020, 2021)\n",
    "}\n",
    "new_frame = pd.DataFrame(pdata)  # Indexes are aligned, missing values filled with NaN\n",
    "\n",
    "# Naming index and columns\n",
    "frame.index.name = \"Year\"        # Sets index name\n",
    "frame.columns.name = \"City\"      # Sets columns name\n",
    "\n",
    "# Convert DataFrame to NumPy array\n",
    "raw_data = frame.to_numpy()      # Returns 2D ndarray without index/column labels\n",
    "\n",
    "# DataFrame with mixed data types\n",
    "crazy_data = pd.DataFrame({\n",
    "    \"Year\": [2020, 2021, 2022],\n",
    "    \"City\": [\"Gotham\", \"Gotham\", \"Gotham\"],\n",
    "    \"Population\": [5.5, 6.0, 6.8],\n",
    "    \"Growth_Rate\": [None, 0.1, 0.15]\n",
    "})\n",
    "crazy_numpy = crazy_data.to_numpy()  # dtype becomes object because of mixed types"
   ]
  },
  {
   "cell_type": "markdown",
   "metadata": {},
   "source": [
    "**INDEX OBJECTS IN PANDAS**\n",
    "- What is an Index? -># Index holds row and column labels along with metadata in pandas.<br>\n",
    "-----------INDEX METHODS & PROPERTIES SUMMARY-----------<br>\n",
    "---------\n",
    "**Set-like operations:**\n",
    "- append(): Concatenate with additional Index objects\n",
    "- difference(): Compute set difference as an Index\n",
    "- intersection(): Compute set intersection\n",
    "- union(): Compute set union\n",
    "- isin(): Boolean array indicating whether each value is in another collection\n",
    "\n",
    "**Element operations:**\n",
    "- delete(): Delete element at a specific index\n",
    "- drop(): Compute new Index by deleting passed values\n",
    "- insert(): Insert element at a specific index\n",
    "\n",
    "**properties:**\n",
    "- is_monotonic: True if each element is greater than or equal to the previous one\n",
    "- is_unique: True if there are no duplicate values\n",
    "- unique(): Compute an array of unique values in the Index\n",
    "\n",
    "**You may not directly interact with Index objects often BUT they show up in most pandas operations:**\n",
    "- Merging\n",
    "- Joining\n",
    "- Aligning\n",
    "- Reindexing\n",
    "\n"
   ]
  },
  {
   "cell_type": "code",
   "execution_count": null,
   "metadata": {},
   "outputs": [],
   "source": [
    "# Immutable\n",
    "obj.index[1] = \"d\"  # Raises TypeError\n",
    "# Example of sharing Index objects\n",
    "labels = pd.Index(np.arange(3))  # Int64Index([0, 1, 2], dtype='int64')\n",
    "obj2 = pd.Series([1.5, -2.5, 0], index=labels) #now they share same types of indexes\n",
    "# INDEX OBJECT BEHAVIOR: ARRAY + SET HYBRID\n",
    "# - Fixed-size set (supports membership checks)\n",
    "# Unlike Python sets, Index objects CAN have duplicates!\n",
    "dup_index = pd.Index([\"foo\", \"foo\", \"bar\", \"bar\"])\n",
    "# Selections with duplicate labels return all occurrences."
   ]
  },
  {
   "cell_type": "markdown",
   "metadata": {},
   "source": [
    "**REINDEXING**\n",
    "- It reaaranges the indexes whether columns , index ,labels etc\n",
    "- loc and iloc are also used but they work for the existing indexes\n",
    "---------\n",
    "**📝 Table 5-3: `reindex()` Function Arguments**\n",
    "- labels--->>> New index sequence (a.k.a. your VIP list—whether they show up is another story).  \n",
    "- index--->>> Set new row labels (rearrange who sits where in the row section; musical chairs, DataFrame edition).  \n",
    "- columns--->>> Set new column labels (finally give Utah a seat at the table—whether it deserves it or not).  \n",
    "- axis--->>> Tell pandas where to work its magic--->>> rows (`index`) or columns (`columns`). Default is rows, because pandas likes to start at the bottom.  \n",
    "- method--->>> Filling strategy for missing data—`'ffill'` (drag the last known value forward, like clinging to your ex), or `'bfill'` (borrow from the next one, like sneaking into the future).  \n",
    "- fill_value--->>> The \"emergency backup\" value when data’s MIA. Defaults to `NaN`, but you can throw in whatever makes sense (or doesn't).  \n",
    "- limit--->>> Max gaps to fill when doing `ffill` or `bfill`. It’s like saying, \"I'll help... but only up to 3 times. I have boundaries.\"  \n",
    "- tolerance--->>> Max numeric distance to tolerate before filling stops. Basically, \"I’ll stretch... but only so far before I snap.\"  \n",
    "- level--->>> For MultiIndex—pick the level to reindex (because sometimes you only have energy to deal with one layer of chaos).  \n",
    "- copy--->>> `True` makes a shiny new copy every time (pandas the perfectionist), `False` skips the extra effort when it’s already good (lazy but efficient).\n",
    "--------\n",
    "**EXTRA**\n",
    "- Use `drop` like `reindex` to remove indexes (index, columns, etc.). You *can* do it with `reindex`, but `drop` makes it simpler and cleaner.\n",
    "\n"
   ]
  },
  {
   "cell_type": "code",
   "execution_count": null,
   "metadata": {},
   "outputs": [],
   "source": [
    "obj = pd.Series([4.5, 7.2, -5.3, 3.6], index=[\"d\", \"b\", \"a\", \"c\"])\n",
    "print(obj.reindex([\"a\", \"b\", \"c\", \"d\", \"e\"]))  # Adds 'e' as NaN, the ghost town of indexes.\n",
    "obj3 = pd.Series([\"blue\", \"purple\", \"yellow\"], index=[0, 2, 4])\n",
    "print(obj3.reindex(np.arange(6), method=\"ffill\"))  # Forward fill: handing down the family heirlooms.\n",
    "# DataFrame reindexing: rows first, columns second. Like dressing up your DataFrame.\n",
    "frame = pd.DataFrame(np.arange(9).reshape(3, 3),index=[\"a\", \"c\", \"d\"],columns=[\"Ohio\", \"Texas\", \"California\"])\n",
    "# Row reindexing: making room for guests that may never show up (hello, NaNs).\n",
    "frame2 = frame.reindex(index=[\"a\", \"b\", \"c\", \"d\", \"e\"])\n",
    "# Column reindexing: adding a column from Utah because why not?\n",
    "frame2 = frame2.reindex(columns=[\"Texas\", \"Utah\", \"California\"])\n",
    "# Same as above but flexing with axis param.\n",
    "states = [\"Texas\", \"Utah\", \"California\"]\n",
    "frame2 = frame2.reindex(states, axis=\"columns\")\n",
    "# Careful! loc needs **square brackets**, not round ones. Otherwise, it’s like calling a wrong number.\n",
    "frame2 = frame.loc[[\"a\", \"c\", \"d\"], states]\n",
    "\n",
    "frame2.drop(columns=[\"Utah\"]) #similarly you can use index , axis etc"
   ]
  },
  {
   "cell_type": "markdown",
   "metadata": {},
   "source": [
    "**INDEXING , SELECTING , FILTERING**\n",
    "----- Pandas Indexing Cheatsheet (With Just Enough Sass)\n",
    "\n",
    "- `df[column]` → grabs column(s)… or starts a rebellion if you confuse it\n",
    "- `df.loc[rows]` → rows by label… because names matter\n",
    "- `df.loc[:, cols]` → columns by label… politely asks for columns, gets them\n",
    "- `df.loc[rows, cols]` → rows *and* columns by label… VIP access only\n",
    "- `df.iloc[rows]` → rows by position… doesn’t care who you are, just where you sit\n",
    "- `df.iloc[:, cols]` → columns by position… seating chart vibes\n",
    "- `df.iloc[rows, cols]` → rows and columns by position… full-on Battleship mode\n",
    "- `df.at[row, col]` → sniper precision, one value by label… no drama\n",
    "- `df.iat[row, col]` → sniper precision, one value by position… faster than `at` but colder\n",
    "- `df.reindex()` → shuffle the deck… hope you know what you’re doing\n"
   ]
  },
  {
   "cell_type": "code",
   "execution_count": null,
   "metadata": {},
   "outputs": [],
   "source": [
    "\"\"\"dataframe with normal and loc or iloc indexing\"\"\"\n",
    "data = pd.DataFrame(np.arange(16).reshape((4, 4)),index=[\"Ohio\", \"Colorado\", \"Utah\", \"New York\"],columns=[\"one\", \"two\", \"three\", \"four\"])\n",
    "data[\"three\"] #Normal indexing\n",
    "data[[\"three\" , \"one\"]] #Multiple indexing\n",
    "data[0:3] #indexing at rows level (because numerical slicing)\n",
    "data[\"three\"][0:3] #indexing at row level by speciliazing the columns\n",
    "data[data[\"three\"] > 5] #conditional indexing\n",
    "data < 5 #dataframe of boolean values\n",
    "data[data < 5] = 8\n",
    "\n",
    "data.loc[\"Colorado\",[\"two\",\"three\"]]\n",
    "data.iloc[[1,2],[3,0,1]]\n",
    "data.loc[:\"Utah\",\"two\"] # Both indexing functions work with slices\n",
    "data.iloc[:,:3][data.three > 5] #It is like making a small dataframe and then indexing it with boolean values\n",
    "data.loc[data.three >= 2] #Boolean aray can be used with loc and only and not with iloc"
   ]
  },
  {
   "cell_type": "markdown",
   "metadata": {},
   "source": [
    "**INTEGER INDEXING PITFALLS**\n",
    "**series**\n",
    "- You can't use the negative index like normal python list\n",
    "- When your lables are integers then panda don't wanna guess if you are talking about lable based indexing or positions based , although for string lables there will be no such problem you can use negative indexing here\n",
    "- with iloc and loc you will face no such problems<br>\n",
    "--------\n",
    "**pitfalls with chained indexing**\n",
    "1. This will throw error() because it creates the copy of original dataframe not the actual view\n",
    "- df[condition]['column'] = 5\n",
    "- df.loc[rows]['column'] = 2\n",
    "2. This works totally fine \n",
    "- df.loc[df['age'] > 30, 'salary'] = 100000  # ✅ Works properly!<br>\n",
    "**A good rule of thumb is to avoid chained indexing when doing assignments**"
   ]
  },
  {
   "cell_type": "markdown",
   "metadata": {},
   "source": [
    "**ARITHMATIC AND DATA ALLIGNMENT**\n",
    "- In case of series you have already seen how index pair of two different objects get alligned automatically\n",
    "- In case of dataframe , the same happens with both the index and columns \n",
    "**arithmatic methods**\n",
    "- `add`, `radd`: addition (`+`)\n",
    "- `sub`, `rsub`: subtraction (`-`)\n",
    "- `div`, `rdiv`: division (`/`)\n",
    "- `floordiv`, `rfloordiv`: floor division (`//`)\n",
    "- `mul`, `rmul`: multiplication (`*`)\n",
    "- `pow`, `rpow`: exponentiation (`**`)\n"
   ]
  },
  {
   "cell_type": "code",
   "execution_count": null,
   "metadata": {},
   "outputs": [],
   "source": [
    "df1 = pd.DataFrame(np.arange(12.).reshape((3, 4)),columns=list(\"abcd\"))\n",
    "df2 = pd.DataFrame(np.arange(20.).reshape((4, 5)),columns=list(\"abcde\"))\n",
    "\n",
    "df1 + df2 #NaN values are added where the indexes are not matching\n",
    "df1.add(df2 , fill_value = 0) #filling NaN values with 0\n",
    "df1.reindex(columns=df2.columns, fill_value=0) #filling NaN values with 0\n",
    "df1.rdiv(1) #counterpart of df1.div(1) which is df1/1"
   ]
  },
  {
   "cell_type": "markdown",
   "metadata": {},
   "source": [
    "- By default, when a DataFrame and Series do math, pandas lines up the Series **index** with the DataFrame **columns**, then broadcasts **down the rows**.\n",
    "- If pandas can’t find matching labels, it politely makes a **union** of both and fills in the blanks.\n",
    "- Want to broadcast **across columns** instead? Use an arithmetic method like `add()` and tell pandas to match on the **index**, not columns."
   ]
  },
  {
   "cell_type": "code",
   "execution_count": null,
   "metadata": {},
   "outputs": [],
   "source": [
    "arr = np.arange(12).reshape((3,4))\n",
    "arr - arr[0] #broadcasting in each row\n",
    "#something similar happens in case of dataframe and series arimatics\n",
    "frame = pd.DataFrame(np.arange(12.).reshape((4,3)),columns=list(\"bde\"),index=[\"Utah\", \"Ohio\", \"Texas\", \"Oregon\"])\n",
    "series = frame.iloc[0] #series with index = [\"b\", \"d\", \"e\"]\n",
    "frame - series #series's index are match with the columns of the datafrrame and then it broadcasts to each row\n",
    "\n",
    "series2 = pd.Series(range(3), index=[\"b\", \"e\", \"f\"])\n",
    "frame + series2 #where the colums and index don't match , NaN values are added\n",
    "series3 = frame[\"d\"] #this time it is a column with index being [\"Utah\", \"Ohio\", \"Texas\", \"Oregon\"]\n",
    "\n",
    "frame.sub(series3 , axis=\"index\") #if you don't define axis it will be full of null values and you know why"
   ]
  },
  {
   "cell_type": "markdown",
   "metadata": {},
   "source": [
    "**FUNCTION APPLICATION AND MAPPING**\n",
    "- We can numpy ufunc with pandas too\n",
    "- Using apply is not necessary\n",
    "- apply() - runs a function across the given axis by_default it is \"column\"\n",
    "- map/applymap - choose map if you don't want warning and it works element wise both on dataframe and series"
   ]
  },
  {
   "cell_type": "code",
   "execution_count": null,
   "metadata": {},
   "outputs": [],
   "source": [
    "frame = pd.DataFrame(np.random.standard_normal((4,3)) , columns=list(\"bde\") , index=[\"Utah\" , \"Ohio\" , \"Texas\", \"Oregon\"])\n",
    "np.abs(frame) #absolute values of the dataframe\n",
    "f1 = lambda x: x.max() - x.min()\n",
    "frame.apply(f1) #applying a function on each column\n",
    "frame.apply(f1 , axis=\"columns\") #applying a function on each row\n",
    "f2 = lambda x: pd.Series([x.max(),x.min()],index=[\"max\",\"min\"])\n",
    "frame.apply(f2) #applying a function that returns a series\n",
    "f3 = lambda x:f\"{x}%\"\n",
    "frame.map(f3) #applying a function element wise\n",
    "frame[\"e\"].map(f3) #applying a function on a series"
   ]
  },
  {
   "cell_type": "markdown",
   "metadata": {},
   "source": [
    "**SORTING AND RANKING**\n",
    "- We can sort by index and values\n",
    "- values -> You can sort by multiple columns or rows, and the rest will obediently fall in line—like students when the teacher walks in."
   ]
  },
  {
   "cell_type": "code",
   "execution_count": null,
   "metadata": {},
   "outputs": [],
   "source": [
    "obj = pd.Series(np.arange(4), index=[\"d\", \"a\", \"b\", \"c\"])\n",
    "obj.sort_index(ascending=False) #No need to define axis since it is always 0 , ascending by default is True\n",
    "frame = pd.DataFrame(np.arange(8).reshape((2,4)) , index=[\"three\" , \"one\"] , columns=[\"d\" , \"a\" , \"b\" , \"c\"])\n",
    "frame.sort_index(axis=\"columns\" , ascending=False) #By default axis is 0 and ascending is True\n",
    "\n",
    "obj = pd.Series([4, 7,np.nan , -3, 2,np.nan])\n",
    "obj.sort_values(na_position=\"first\") #NaN values are sorted to the end by default , so we chose first\n",
    "frame = pd.DataFrame({\"b\": [4,7,-3,2] , \"a\" :[0,1,0,1]})\n",
    "frame.sort_values([\"a\",\"b\"]) #Sorting by multiple columns , you can even choose single column and rest is just same\n"
   ]
  }
 ],
 "metadata": {
  "kernelspec": {
   "display_name": "pydata-book",
   "language": "python",
   "name": "python3"
  },
  "language_info": {
   "codemirror_mode": {
    "name": "ipython",
    "version": 3
   },
   "file_extension": ".py",
   "mimetype": "text/x-python",
   "name": "python",
   "nbconvert_exporter": "python",
   "pygments_lexer": "ipython3",
   "version": "3.10.14"
  }
 },
 "nbformat": 4,
 "nbformat_minor": 2
}
