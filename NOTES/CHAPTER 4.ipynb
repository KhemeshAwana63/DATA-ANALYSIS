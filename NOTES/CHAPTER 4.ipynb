{
 "cells": [
  {
   "cell_type": "markdown",
   "metadata": {},
   "source": [
    "##### CHAPTER 4 -> NumPy Basics and Vectorized Computation"
   ]
  },
  {
   "cell_type": "markdown",
   "metadata": {},
   "source": [
    "**NumPy -> numerical python**\n",
    "- (pandas , ScyPy , sckit learn) -> behind the scene are based on Numpy\n",
    "- Extremely fast ( C - Based algorithm)\n",
    "- ndarray (python list on steroid)\n",
    "- vectorized maths -> complete array operations without needing a loop\n",
    "- I/O -> read/write array to disks \n",
    "- C API (python meets C/C++)\n",
    "------\n",
    "**WHY NUMPY IS FAST**\n",
    "- Contigous memory location\n",
    "- No type checking (C behind the scene saying \"i got it captain\"😋)\n",
    "- vectorized operations\n",
    "- we can treat ndarray like as if we are playing with constants"
   ]
  },
  {
   "cell_type": "code",
   "execution_count": null,
   "metadata": {},
   "outputs": [],
   "source": [
    "\"\"\"SOME BASIC FUNCTIONALITIES\"\"\"\n",
    "import numpy as np\n",
    "array = np.array([[1,2,3],[3,4,5],[7,8,9]])\n",
    "array.dtype #checks the data type\n",
    "array.shape #checks the shape (tuple)\n",
    "array.ndim #checks the dimensions"
   ]
  },
  {
   "cell_type": "markdown",
   "metadata": {},
   "source": [
    "**CREATING NUMPY ARRAYS**"
   ]
  },
  {
   "cell_type": "code",
   "execution_count": null,
   "metadata": {},
   "outputs": [],
   "source": [
    "python_list = [1,2,3,4,5,6]\n",
    "python_nested_list = [[1,2,3],[4,5,6]]\n",
    "numpy_array = np.array(python_list) #conversts list to array\n",
    "numpy_muldim_array = np.array(python_nested_list) #converts to mul dim array\n",
    "\n",
    "np.zeros((2,3),dtype=np.float64) #shape/length , dtype(optional)\n",
    "np.ones(6,dtype=np.int64) #similar\n",
    "np.empty((4,5)) #don't assume it would return only zero it can also return garbage values(uninitialized memory)\n",
    "np.arange(6) #lost brother of python range function\n",
    "np.asarray([1, 2, 3])  # Converts input to ndarray (doesn't copy if already ndarray)\n",
    "np.ones_like(np.array([[1, 2], [3, 4]]))  # Returns an array of ones with the same shape and type as the input array\n",
    "np.zeros_like(np.array([[1, 2], [3, 4]]))  # Returns an array of zeros with the same shape and type as the input array\n",
    "np.empty_like(np.array([[1, 2], [3, 4]]))  # Returns an uninitialized array with the same shape and type as the input array (could be garbage values)\n",
    "np.full((3, 4), 7)  # Returns a new array of shape (3, 4) filled with the value 7\n",
    "np.full_like(np.array([[1, 2], [3, 4]]), 9)  # Returns an array with the same shape and type as the input, filled with 9\n",
    "np.eye(4)  # Creates a 4x4 identity matrix (ones on diagonal, zeros elsewhere)\n",
    "np.identity(3)  # Creates a 3x3 identity matrix (same as eye but simpler syntax for square matrices)"
   ]
  },
  {
   "cell_type": "markdown",
   "metadata": {},
   "source": [
    "**DATA TYPES**\n",
    "- You can explicitly choose the data type for an array\n",
    "- calling astype creates new copy even if you convert to same dtype\n",
    "- numpy.string_ data type is fixed length data type so if you try to store <br>\n",
    "data longer then allocated length it gets chopped off without a warning\n",
    "- float to integer conversions truncates the value after the decimal\n",
    "-----\n",
    "- you can use the type code to specify the data type <br>\n",
    "int (i/u 1/2/4/8) <br> float (f 2/4/8/16) <br> complex (c 8/16/32) <br> bool (?), object (O), string (S), unicode (U)\n",
    "\n"
   ]
  },
  {
   "cell_type": "code",
   "execution_count": 17,
   "metadata": {},
   "outputs": [],
   "source": [
    "array_1 = np.array([1,2,3,4],dtype=np.float64) #normal way\n",
    "array_2 = np.array([5,6,7],dtype=\"int64\") #short hand method\n",
    "array_3 = array_2.astype(np.float64)\n",
    "array_4 = array_2.astype(array.dtype) #taking other array dtype attribute"
   ]
  },
  {
   "cell_type": "code",
   "execution_count": null,
   "metadata": {},
   "outputs": [],
   "source": [
    "string_array = np.array([\"hello\",\"world\"],dtype=\"S4\")\n",
    "#array([b'hell', b'worl'], dtype='|S4')"
   ]
  },
  {
   "cell_type": "markdown",
   "metadata": {},
   "source": [
    "**ARITHMATIC OPERATION**\n",
    "- Arithmatic operations here are done on equal size/shape array\n",
    "- Evaluating operations b/w differently sized arrays is called broadcasting"
   ]
  },
  {
   "cell_type": "code",
   "execution_count": null,
   "metadata": {},
   "outputs": [],
   "source": [
    "#basically the operation happens to corresponding elements\n",
    "array_5 = np.array([[2,3,4],[5,6,7],[7,8,9]])\n",
    "array_5 * 5 #similarly multiplication , division , subtraction , exponent etc\n",
    "array_5 + array_5 #similarly multiplication , division , subtraction ,exponent etc\n",
    "array_5 > array_4 #gives a boolean array making comparison of corresponding elements"
   ]
  },
  {
   "cell_type": "markdown",
   "metadata": {},
   "source": [
    "**BASIC INDEXING AND SLICING**\n",
    "- NumPy slices accept scalars (broadcasted to all elements) or arrays (assigned element-wise).\n",
    "- Python lists require an iterable for slice assignments—scalars aren't allowed.\n",
    "- A NumPy slice is a view, not a copy—changes affect the original array (same in pandas).\n",
    "- To create an independent copy of a slice: arr[5:8].copy()\n",
    "- In one dimensional -> bare slices [:] -> refers to all the values in the array\n",
    "- Multidimensional syntax of numpy arrays will not work for python lists"
   ]
  },
  {
   "cell_type": "code",
   "execution_count": null,
   "metadata": {},
   "outputs": [],
   "source": [
    "arr = np.arange(7)\n",
    "view = arr[0:5] #it creates a view of the original arr\n",
    "view[0:3] = 5 #it is going to modify the original arr(no copy)\n",
    "arr #array([5, 5, 5, 3, 4, 5, 6])-> this is not the case in python list"
   ]
  },
  {
   "cell_type": "markdown",
   "metadata": {},
   "source": [
    "**2D Arrays**\n",
    "- Each index gives you a 1D array, not a scalar.\n",
    "- axis=0 → rows, axis=1 → columns.\n",
    "\n",
    "**Multidimensional Arrays**\n",
    "- Each index returns a lower-dimensional array (not just 2D or scalar).\n",
    "- Use multiple indices to drill deeper into the array.<br>\n",
    "**EXTRA**\n",
    "- When passing a scalar value to a arr2d slice or arr3d slice it will be broadcasted to<br>\n",
    "every value just like in 1D"
   ]
  },
  {
   "cell_type": "code",
   "execution_count": null,
   "metadata": {},
   "outputs": [],
   "source": [
    "arr2d = np.array([[1, 2, 3], [4, 5, 6], [7, 8, 9]])\n",
    "arr3d = np.array([[[1, 2, 3], [4, 5, 6]], [[7, 8, 9], [10, 11, 12]]])\n",
    "arr2d[0][1] or arr2d[0,1] #are the same thing\n",
    "arr3d[0][1][1] or arr3d[0,1,1] #are the same thing as well(row,column,slices)\n"
   ]
  },
  {
   "cell_type": "markdown",
   "metadata": {},
   "source": [
    "##### INDEXING WITH SLICING IN 2D\n",
    "| **Expression**   | **Shape** |\n",
    "|------------------|-----------|\n",
    "| `arr[:2, 1:]`    | `(2, 2)`  |\n",
    "| `arr[2]`         | `(3,)`    |\n",
    "| `arr[2, :]`      | `(3,)`    |\n",
    "| `arr[2:, :]`     | `(1, 3)`  |\n",
    "| `arr[:, :2]`     | `(3, 2)`  |\n",
    "| `arr[1, :2]`     | `(2,)`    |\n",
    "| `arr[1:2, :2]`   | `(1, 2)`  |"
   ]
  },
  {
   "cell_type": "markdown",
   "metadata": {},
   "source": [
    "**BOOLEAN INDEXING**\n",
    "- Boolean indexing creates a copy, not a view (unlike slicing).\n",
    "- Pass boolean arrays to index arrays directly.\n",
    "- Boolean array length must match the axis it indexes.\n",
    "- Use & (and), | (or) for multiple conditions (not and / or keywords).\n",
    "- Use ~ or != for negation (~ is handy with saved boolean arrays in some variable).\n",
    "- The result of boolean indexing is a copy, not linked to the original array.\n",
    "- After boolean indexing, you can assign scalars or arrays (broadcasting applies).\n",
    "- You can mix and match boolean arrays with slices or integers as well"
   ]
  },
  {
   "cell_type": "code",
   "execution_count": null,
   "metadata": {},
   "outputs": [],
   "source": [
    "names = np.array([\"Bob\", \"Joe\", \"Will\", \"Bob\", \"Will\", \"Joe\", \"Joe\"])\n",
    "scores = np.array([[4, 7], [0, 2], [-5, 6], [0, 0], [1, 2], [-12, -4], [3, 4]])\n",
    "\n",
    "is_bob = names == \"Bob\"                        # Boolean array (True where Bob)\n",
    "bob_scores = scores[is_bob]                    # Rows where name is Bob (copy)\n",
    "bob_or_will = (names == \"Bob\") | (names == \"Will\")  # Combine conditions\n",
    "bw_scores = scores[bob_or_will]                # Rows where Bob or Will (copy)\n",
    "bw_col1 = scores[bob_or_will, 1]               # Select 2nd column for Bob/Will rows\n",
    "high_scores = scores[scores >= 7]              # Elements >= 7 (flattened)\n",
    "not_joe = scores[~(names == \"Joe\")]            # Exclude Joe (negation)"
   ]
  },
  {
   "cell_type": "markdown",
   "metadata": {},
   "source": [
    "**FANCY INDEXING**\n",
    "- Term used in numpy where you pass list or ndarray of integers to get the perticular subset of values , rows , column\n",
    "- -ve index will select from the end\n",
    "- copies the data when assign to a new variable"
   ]
  },
  {
   "cell_type": "code",
   "execution_count": null,
   "metadata": {},
   "outputs": [],
   "source": [
    "arr = np.arange(32).reshape((8,4))\n",
    "\n",
    "arr[[1, 5, 7]]                          # Select rows 1, 5, 7 → returns 2D array\n",
    "arr[[-1, -4, -6]]                      # Select rows from end → last, 4th last, 6th last\n",
    "arr[[1, 3, 7], [1, 2, 0]]              # Picks (1,1), (3,2), (7,0) → returns 1D array of elements\n",
    "arr[[1, 5, 7, 2]][:, [0, 3, 1, 2]]     # Fancy indexing: picks rows (1,5,7,2) and reorders columns → cols 0,3,1,2\n",
    "arr[[1, 5, 7, 2], [0, 3, 1, 2]] = 0 #just like before"
   ]
  },
  {
   "cell_type": "markdown",
   "metadata": {},
   "source": [
    "**TRANSPOSING ARRAYS AND SWAPING AXES**\n",
    "- Special form of reshape() , It returns a view of the arr\n",
    "- Comes handy in matrix multiplications -> np.dot() or you can use @ to multiply to matrix\n",
    "- .T attributes is use for transpose\n",
    "- for multidimensional we use swapaxes and specify the axis for swapping"
   ]
  },
  {
   "cell_type": "code",
   "execution_count": null,
   "metadata": {},
   "outputs": [],
   "source": [
    "arr = np.arange(15).reshape((3,5))\n",
    "arr.T or arr.swapaxes(0,1) #transposing\n",
    "np.dot(arr.T, arr) or arr @ arr.T #for matrix multiplication"
   ]
  },
  {
   "cell_type": "markdown",
   "metadata": {},
   "source": [
    "**PSUEDORANDOM NUMBER GENERATION**\n",
    "- NumPy has a built-in random number generator (RNG) → follows a pattern (hence pseudorandom).\n",
    "- You can control the pattern using your own seed.\n",
    "- Seed sets the RNG’s initial state → changes every time unless fixed.\n",
    "- Custom RNG (rng) is isolated from np.random, avoiding interference.\n",
    "- This rng is going to be  used in the whole book"
   ]
  },
  {
   "cell_type": "code",
   "execution_count": null,
   "metadata": {},
   "outputs": [],
   "source": [
    "np.random.standard_normal((4, 4)) #python's built in rng\n",
    "\n",
    "#python vs numpy -> one by one vs vectorized operation😉\n",
    "from random import normalvariate\n",
    "N = 1_000_000\n",
    "%timeit samples = [normalvariate(0,1) for _ in range(N)]\n",
    "# 895 ms ± 40 ms per loop (mean ± std. dev. of 7 runs, 1 loop each)\n",
    "%timeit np.random.standard_normal(N)\n",
    "# 25 ms ± 284 μs per loop (mean ± std. dev. of 7 runs, 10 loops each)\n",
    "\n",
    "rng = np.random.default_rng(seed=12345) #Generator(PCG64) at 0x2152E5D34C0\n",
    "data = rng.standard_normal((2,3)) #specified rng "
   ]
  },
  {
   "cell_type": "markdown",
   "metadata": {},
   "source": [
    "#### NumPy Random Methods & Descriptions\n",
    "\n",
    "- **`permutation`** → Returns a random permutation of a sequence or permuted range  \n",
    "- **`shuffle`** → Randomly permutes a sequence in place  \n",
    "- **`uniform`** → Draws samples from a uniform distribution  \n",
    "- **`integers`** → Draws random integers from a given low-to-high range  \n",
    "- **`standard_normal`** → Draws samples from a normal distribution (mean = 0, std = 1)  \n",
    "- **`binomial`** → Draws samples from a binomial distribution  \n",
    "- **`normal`** → Draws samples from a normal (Gaussian) distribution  \n",
    "- **`beta`** → Draws samples from a beta distribution  \n",
    "- **`chisquare`** → Draws samples from a chi-square distribution  \n",
    "- **`gamma`** → Draws samples from a gamma distribution  \n",
    "- **`uniform`** → Draws samples from a uniform `[0, 1)` distribution  \n"
   ]
  },
  {
   "cell_type": "markdown",
   "metadata": {},
   "source": [
    "**UNIVERSAL FUNCTION -> FAST ELEMENT-WISE ARRAY FUNCTIONS**\n",
    "- Perform element-wise operations and return element-wise results.\n",
    "- **Unary ufunc** → Operates on one array.\n",
    "- **Binary ufunc** → Operates on two arrays, returns one array.\n",
    "- By default, returns a **copy**.\n",
    "- Some ufuncs (like `np.modf(arr)`) return **two arrays**.\n",
    "- Use `out` to store results in existing arrays (saves memory, avoids temp arrays)."
   ]
  },
  {
   "cell_type": "code",
   "execution_count": null,
   "metadata": {},
   "outputs": [],
   "source": [
    "arr = np.random.standard_normal(8) * 5\n",
    "khemu = np.zeros_like(arr)\n",
    "np.add(arr , 1 , out = khemu)\n",
    "remainder , whole_part = np.modf(arr)"
   ]
  },
  {
   "cell_type": "markdown",
   "metadata": {},
   "source": [
    "### Unary Universal Functions (Table 4-4)\n",
    "\n",
    "- **`abs`, `fabs`**: Absolute value (int, float, complex)\n",
    "- **`sqrt`**: Square root (`arr ** 0.5`)\n",
    "- **`square`**: Square (`arr ** 2`)\n",
    "- **`exp`**: Exponential (`e^x`)\n",
    "- **`log`, `log10`, `log2`, `log1p`**: Natural log, base-10, base-2, `log(1 + x)`\n",
    "- **`sign`**: Sign (1 if +, 0 if 0, -1 if -)\n",
    "- **`ceil`**: Smallest int ≥ element\n",
    "- **`floor`**: Largest int ≤ element\n",
    "- **`rint`**: Round to nearest int (preserves dtype)\n",
    "- **`modf`**: Fractional & integral parts (returns two arrays)\n",
    "- **`isnan`**: Check for NaN values\n",
    "- **`isfinite`, `isinf`**: Check for finite or infinite values\n",
    "- **`cos`, `cosh`, `sin`, `sinh`, `tan`, `tanh`**: Trigonometric & hyperbolic functions\n",
    "- **`arccos`, `arcsin`, `arctan`, `arccosh`, `arcsinh`, `arctanh`**: Inverse trig functions\n",
    "- **`logical_not`**: Element-wise NOT (`~arr`)\n",
    "\n",
    "---\n",
    "\n",
    "### Binary Universal Functions (Table 4-5)\n",
    "\n",
    "- **`add`**: Element-wise addition\n",
    "- **`subtract`**: Subtract second array from first\n",
    "- **`multiply`**: Element-wise multiplication\n",
    "- **`divide`, `floor_divide`**: Element-wise division or floor division (truncate remainder)\n",
    "- **`power`**: Raise first array to powers from second array\n",
    "- **`maximum`, `fmax`**: Element-wise max (`fmax` ignores NaN)\n",
    "- **`minimum`, `fmin`**: Element-wise min (`fmin` ignores NaN)\n",
    "- **`mod`**: Element-wise modulus (remainder)\n",
    "- **`copysign`**: Copy sign from second to first array\n",
    "- **`greater`, `greater_equal`, `less`, `less_equal`, `equal`, `not_equal`**: Element-wise comparison (Boolean output)\n",
    "- **`logical_and`**: Element-wise AND (`&`)\n",
    "- **`logical_or`**: Element-wise OR (`|`)\n",
    "- **`logical_xor`**: Element-wise XOR (`^`)\n"
   ]
  }
 ],
 "metadata": {
  "kernelspec": {
   "display_name": "pydata-book",
   "language": "python",
   "name": "python3"
  },
  "language_info": {
   "codemirror_mode": {
    "name": "ipython",
    "version": 3
   },
   "file_extension": ".py",
   "mimetype": "text/x-python",
   "name": "python",
   "nbconvert_exporter": "python",
   "pygments_lexer": "ipython3",
   "version": "3.10.14"
  }
 },
 "nbformat": 4,
 "nbformat_minor": 2
}
