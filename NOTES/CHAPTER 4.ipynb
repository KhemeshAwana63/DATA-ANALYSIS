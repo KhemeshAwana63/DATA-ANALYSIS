{
 "cells": [
  {
   "cell_type": "markdown",
   "metadata": {},
   "source": [
    "### -----------------NumPy Basics and Vectorized Computation----------------------"
   ]
  },
  {
   "cell_type": "markdown",
   "metadata": {},
   "source": [
    "**NumPy -> numerical python**\n",
    "- (pandas , ScyPy , sckit learn) -> behind the scene are based on Numpy\n",
    "- Extremely fast ( C - Based algorithm)\n",
    "- ndarray (python list on steroid)\n",
    "- vectorized maths -> complete array operations without needing a loop\n",
    "- I/O -> read/write array to disks \n",
    "- C API (python meets C/C++)\n",
    "------\n",
    "**WHY NUMPY IS FAST**\n",
    "- Contigous memory location\n",
    "- No type checking (C behind the scene saying \"i got it captain\"😋)\n",
    "- vectorized operations\n",
    "- we can treat ndarray like as if we are playing with constants"
   ]
  },
  {
   "cell_type": "code",
   "execution_count": 1,
   "metadata": {},
   "outputs": [],
   "source": [
    "\"\"\"SOME BASIC FUNCTIONALITIES\"\"\"\n",
    "import numpy as np\n",
    "array = np.array([[1,2,3],[3,4,5],[7,8,9]])\n",
    "array.dtype #checks the data type\n",
    "array.shape #checks the shape (tuple)\n",
    "array.ndim #checks the dimensions"
   ]
  },
  {
   "cell_type": "markdown",
   "metadata": {},
   "source": [
    "**CREATING NUMPY ARRAYS**"
   ]
  },
  {
   "cell_type": "code",
   "execution_count": 2,
   "metadata": {},
   "outputs": [],
   "source": [
    "python_list = [1,2,3,4,5,6]\n",
    "python_nested_list = [[1,2,3],[4,5,6]]\n",
    "numpy_array = np.array(python_list) #conversts list to array\n",
    "numpy_muldim_array = np.array(python_nested_list) #converts to mul dim array\n",
    "\n",
    "np.zeros((2,3),dtype=np.float64) #shape/length , dtype(optional)\n",
    "np.ones(6,dtype=np.int64) #similar\n",
    "np.empty((4,5)) #don't assume it would return only zero it can also return garbage values(uninitialized memory)\n",
    "np.arange(6) #lost brother of python range function\n",
    "np.asarray([1, 2, 3])  # Converts input to ndarray (doesn't copy if already ndarray)\n",
    "np.ones_like(np.array([[1, 2], [3, 4]]))  # Returns an array of ones with the same shape and type as the input array\n",
    "np.zeros_like(np.array([[1, 2], [3, 4]]))  # Returns an array of zeros with the same shape and type as the input array\n",
    "np.empty_like(np.array([[1, 2], [3, 4]]))  # Returns an uninitialized array with the same shape and type as the input array (could be garbage values)\n",
    "np.full((3, 4), 7)  # Returns a new array of shape (3, 4) filled with the value 7\n",
    "np.full_like(np.array([[1, 2], [3, 4]]), 9)  # Returns an array with the same shape and type as the input, filled with 9\n",
    "np.eye(4)  # Creates a 4x4 identity matrix (ones on diagonal, zeros elsewhere)\n",
    "np.identity(3)  # Creates a 3x3 identity matrix (same as eye but simpler syntax for square matrices)"
   ]
  },
  {
   "cell_type": "markdown",
   "metadata": {},
   "source": [
    "**DATA TYPES**\n",
    "- You can explicitly choose the data type for an array\n",
    "- calling astype creates new copy even if you convert to same dtype\n",
    "- numpy.string_ data type is fixed length data type so if you try to store <br>\n",
    "data longer then allocated length it gets chopped off without a warning\n",
    "- float to integer conversions truncates the value after the decimal\n",
    "-----\n",
    "- you can use the type code to specify the data type <br>\n",
    "int (i/u 1/2/4/8) <br> float (f 2/4/8/16) <br> complex (c 8/16/32) <br> bool (?), object (O), string (S), unicode (U)\n",
    "\n"
   ]
  },
  {
   "cell_type": "code",
   "execution_count": 3,
   "metadata": {},
   "outputs": [],
   "source": [
    "array_1 = np.array([1,2,3,4],dtype=np.float64) #normal way\n",
    "array_2 = np.array([5,6,7],dtype=\"int64\") #short hand method\n",
    "array_3 = array_2.astype(np.float64)\n",
    "array_4 = array_2.astype(array.dtype) #taking other array dtype attribute"
   ]
  },
  {
   "cell_type": "code",
   "execution_count": 4,
   "metadata": {},
   "outputs": [],
   "source": [
    "string_array = np.array([\"hello\",\"world\"],dtype=\"S4\")\n",
    "#array([b'hell', b'worl'], dtype='|S4')"
   ]
  },
  {
   "cell_type": "markdown",
   "metadata": {},
   "source": [
    "**ARITHMATIC OPERATION**\n",
    "- Arithmatic operations here are done on equal size/shape array\n",
    "- Evaluating operations b/w differently sized arrays is called broadcasting"
   ]
  },
  {
   "cell_type": "code",
   "execution_count": 5,
   "metadata": {},
   "outputs": [],
   "source": [
    "#basically the operation happens to corresponding elements\n",
    "array_5 = np.array([[2,3,4],[5,6,7],[7,8,9]])\n",
    "array_5 * 5 #similarly multiplication , division , subtraction , exponent etc\n",
    "array_5 + array_5 #similarly multiplication , division , subtraction ,exponent etc\n",
    "array_5 > array_4 #gives a boolean array making comparison of corresponding elements"
   ]
  },
  {
   "cell_type": "markdown",
   "metadata": {},
   "source": [
    "**BASIC INDEXING AND SLICING**\n",
    "- NumPy slices accept scalars (broadcasted to all elements) or arrays (assigned element-wise).\n",
    "- Python lists require an iterable for slice assignments—scalars aren't allowed.\n",
    "- A NumPy slice is a view, not a copy—changes affect the original array (same in pandas).\n",
    "- To create an independent copy of a slice: arr[5:8].copy()\n",
    "- In one dimensional -> bare slices [:] -> refers to all the values in the array\n",
    "- Multidimensional syntax of numpy arrays will not work for python lists"
   ]
  },
  {
   "cell_type": "code",
   "execution_count": 6,
   "metadata": {},
   "outputs": [],
   "source": [
    "arr = np.arange(7)\n",
    "view = arr[0:5] #it creates a view of the original arr\n",
    "view[0:3] = 5 #it is going to modify the original arr(no copy)\n",
    "arr #array([5, 5, 5, 3, 4, 5, 6])-> this is not the case in python list"
   ]
  },
  {
   "cell_type": "markdown",
   "metadata": {},
   "source": [
    "**2D Arrays**\n",
    "- Each index gives you a 1D array, not a scalar.\n",
    "- axis=0 ->rows ko collapse karo, columns pe operation\n",
    "- axis = 1 ->columns ko collapse karo, rows pe operation\n",
    "\n",
    "**Multidimensional Arrays**\n",
    "- Each index returns a lower-dimensional array (not just 2D or scalar).\n",
    "- Use multiple indices to drill deeper into the array.<br>\n",
    "**EXTRA**\n",
    "- When passing a scalar value to a arr2d slice or arr3d slice it will be broadcasted to<br>\n",
    "every value just like in 1D"
   ]
  },
  {
   "cell_type": "code",
   "execution_count": 7,
   "metadata": {},
   "outputs": [],
   "source": [
    "arr2d = np.array([[1, 2, 3], [4, 5, 6], [7, 8, 9]])\n",
    "arr3d = np.array([[[1, 2, 3], [4, 5, 6]], [[7, 8, 9], [10, 11, 12]]])\n",
    "arr2d[0][1] or arr2d[0,1] #are the same thing\n",
    "arr3d[0][1][1] or arr3d[0,1,1] #are the same thing as well(row,column,slices)\n"
   ]
  },
  {
   "cell_type": "markdown",
   "metadata": {},
   "source": [
    "##### INDEXING WITH SLICING IN 2D FOR A (3,3) ARRAY\n",
    "| **Expression**   | **Shape** |\n",
    "|------------------|-----------|\n",
    "| `arr[:2, 1:]`    | `(2, 2)`  |\n",
    "| `arr[2]`         | `(3,)`    |\n",
    "| `arr[2, :]`      | `(3,)`    |\n",
    "| `arr[2:, :]`     | `(1, 3)`  |\n",
    "| `arr[:, :2]`     | `(3, 2)`  |\n",
    "| `arr[1, :2]`     | `(2,)`    |\n",
    "| `arr[1:2, :2]`   | `(1, 2)`  |"
   ]
  },
  {
   "cell_type": "markdown",
   "metadata": {},
   "source": [
    "**BOOLEAN INDEXING**\n",
    "- Boolean indexing creates a copy, not a view (unlike slicing).\n",
    "- Pass boolean arrays as index to arrays directly.\n",
    "- Boolean array length must match the axis it indexes.\n",
    "- Use & (and), | (or) for multiple conditions (not and / or keywords).\n",
    "- Use ~ or != for negation (~ is handy with saved boolean arrays in some variable).\n",
    "- After boolean indexing, you can assign scalars or arrays (broadcasting applies).\n",
    "- You can mix and match boolean arrays with slices or integers as well"
   ]
  },
  {
   "cell_type": "code",
   "execution_count": null,
   "metadata": {},
   "outputs": [],
   "source": [
    "names = np.array([\"Bob\", \"Joe\", \"Will\", \"Bob\", \"Will\", \"Joe\", \"Joe\"])\n",
    "scores = np.array([[4, 7], [0, 2], [-5, 6], [0, 0], [1, 2], [-12, -4], [3, 4]])\n",
    "\n",
    "is_bob = names == \"Bob\"                        # Boolean array (True where Bob)\n",
    "bob_scores = scores[is_bob]                    # Rows where name is Bob (copy)\n",
    "bob_or_will = (names == \"Bob\") | (names == \"Will\")  # Combine conditions\n",
    "bw_scores = scores[bob_or_will]                # Rows where Bob or Will (copy)\n",
    "bw_col1 = scores[bob_or_will, 1]               # Select 2nd column for Bob/Will rows\n",
    "high_scores = scores[scores >= 7]              # Elements >= 7 (flattened)\n",
    "not_joe = scores[~(names == \"Joe\")]            # Exclude Joe (negation)"
   ]
  },
  {
   "cell_type": "markdown",
   "metadata": {},
   "source": [
    "**FANCY INDEXING**\n",
    "- Term used in numpy where you pass list or ndarray of integers to get the perticular subset of values , rows , column\n",
    "- -ve index will select from the end\n",
    "- copies the data when assign to a new variable"
   ]
  },
  {
   "cell_type": "code",
   "execution_count": null,
   "metadata": {},
   "outputs": [],
   "source": [
    "arr = np.arange(32).reshape((8,4))\n",
    "\n",
    "arr[[1, 5, 7]]                          # Select rows 1, 5, 7 → returns 2D array\n",
    "arr[[-1, -4, -6]]                      # Select rows from end → last, 4th last, 6th last\n",
    "arr[[1, 3, 7], [1, 2, 0]]              # Picks (1,1), (3,2), (7,0) → returns 1D array of elements\n",
    "arr[[1, 5, 7, 2]][:, [0, 3, 1, 2]]     # Fancy indexing: picks rows (1,5,7,2) and reorders columns → cols 0,3,1,2\n",
    "arr[[1, 5, 7, 2], [0, 3, 1, 2]] = 0 #just like before"
   ]
  },
  {
   "cell_type": "markdown",
   "metadata": {},
   "source": [
    "**TRANSPOSING ARRAYS AND SWAPING AXES**\n",
    "- Special form of reshape() , It returns a view of the arr\n",
    "- Comes handy in matrix multiplications -> np.dot() or you can use @ to multiply to matrix\n",
    "- .T attributes is use for transpose\n",
    "- for multidimensional we use swapaxes and specify the axis for swapping"
   ]
  },
  {
   "cell_type": "code",
   "execution_count": null,
   "metadata": {},
   "outputs": [],
   "source": [
    "arr = np.arange(15).reshape((3,5))\n",
    "arr.T or arr.swapaxes(0,1) #transposing\n",
    "np.dot(arr.T, arr) or arr @ arr.T #for matrix multiplication"
   ]
  },
  {
   "cell_type": "markdown",
   "metadata": {},
   "source": [
    "**PSUEDORANDOM NUMBER GENERATION**\n",
    "- NumPy has a built-in random number generator (RNG) → follows a pattern (hence pseudorandom).\n",
    "- You can control the pattern using your own seed.\n",
    "- Seed sets the RNG’s initial state → changes every time unless fixed.\n",
    "- Custom RNG (rng) is isolated from np.random, avoiding interference.\n",
    "- This rng is going to be  used in the whole book"
   ]
  },
  {
   "cell_type": "code",
   "execution_count": null,
   "metadata": {},
   "outputs": [],
   "source": [
    "np.random.standard_normal((4, 4)) #python's built in rng\n",
    "\n",
    "#python vs numpy -> one by one vs vectorized operation😉\n",
    "from random import normalvariate\n",
    "N = 1_000_000\n",
    "%timeit samples = [normalvariate(0,1) for _ in range(N)]\n",
    "# 895 ms ± 40 ms per loop (mean ± std. dev. of 7 runs, 1 loop each)\n",
    "%timeit np.random.standard_normal(N)\n",
    "# 25 ms ± 284 μs per loop (mean ± std. dev. of 7 runs, 10 loops each)\n",
    "\n",
    "rng = np.random.default_rng(seed=12345) #Generator(PCG64) at 0x2152E5D34C0\n",
    "data = rng.standard_normal((2,3)) #specified rng "
   ]
  },
  {
   "cell_type": "markdown",
   "metadata": {},
   "source": [
    "#### NumPy Random Methods & Descriptions\n",
    "\n",
    "- **`permutation`** → Returns a random permutation of a sequence or permuted range  \n",
    "- **`shuffle`** → Randomly permutes a sequence in place  \n",
    "- **`uniform`** → Draws samples from a uniform distribution  \n",
    "- **`integers`** → Draws random integers from a given low-to-high range  \n",
    "- **`standard_normal`** → Draws samples from a normal distribution (mean = 0, std = 1)  \n",
    "- **`binomial`** → Draws samples from a binomial distribution  \n",
    "- **`normal`** → Draws samples from a normal (Gaussian) distribution  \n",
    "- **`beta`** → Draws samples from a beta distribution  \n",
    "- **`chisquare`** → Draws samples from a chi-square distribution  \n",
    "- **`gamma`** → Draws samples from a gamma distribution  \n",
    "- **`uniform`** → Draws samples from a uniform `[0, 1)` distribution  \n"
   ]
  },
  {
   "cell_type": "markdown",
   "metadata": {},
   "source": [
    "**UNIVERSAL FUNCTION -> FAST ELEMENT-WISE ARRAY FUNCTIONS**\n",
    "- Perform element-wise operations and return element-wise results.\n",
    "- **Unary ufunc** → Operates on one array.\n",
    "- **Binary ufunc** → Operates on two arrays, returns one array.\n",
    "- By default, returns a **copy**.\n",
    "- Some ufuncs (like `np.modf(arr)`) return **two arrays**.\n",
    "- Use `out` to store results in existing arrays (saves memory, avoids temp arrays)."
   ]
  },
  {
   "cell_type": "code",
   "execution_count": null,
   "metadata": {},
   "outputs": [],
   "source": [
    "arr = np.random.standard_normal(8) * 5\n",
    "khemu = np.zeros_like(arr)\n",
    "np.add(arr , 1 , out = khemu)\n",
    "remainder , whole_part = np.modf(arr)"
   ]
  },
  {
   "cell_type": "markdown",
   "metadata": {},
   "source": [
    "### Unary Universal Functions\n",
    "\n",
    "- **`abs`, `fabs`**: Absolute value (int, float, complex)\n",
    "- **`sqrt`**: Square root (`arr ** 0.5`)\n",
    "- **`square`**: Square (`arr ** 2`)\n",
    "- **`exp`**: Exponential (`e^x`)\n",
    "- **`log`, `log10`, `log2`, `log1p`**: Natural log, base-10, base-2, `log(1 + x)`\n",
    "- **`sign`**: Sign (1 if +, 0 if 0, -1 if -)\n",
    "- **`ceil`**: Smallest int ≥ element\n",
    "- **`floor`**: Largest int ≤ element\n",
    "- **`rint`**: Round to nearest int (preserves dtype)\n",
    "- **`modf`**: Fractional & integral parts (returns two arrays)\n",
    "- **`isnan`**: Check for NaN values\n",
    "- **`isfinite`, `isinf`**: Check for finite or infinite values\n",
    "- **`cos`, `cosh`, `sin`, `sinh`, `tan`, `tanh`**: Trigonometric & hyperbolic functions\n",
    "- **`arccos`, `arcsin`, `arctan`, `arccosh`, `arcsinh`, `arctanh`**: Inverse trig functions\n",
    "- **`logical_not`**: Element-wise NOT (`~arr`)\n",
    "\n",
    "---\n",
    "\n",
    "### Binary Universal Functions\n",
    "\n",
    "- **`add`**: Element-wise addition\n",
    "- **`subtract`**: Subtract second array from first\n",
    "- **`multiply`**: Element-wise multiplication\n",
    "- **`divide`, `floor_divide`**: Element-wise division or floor division (truncate remainder)\n",
    "- **`power`**: Raise first array to powers from second array\n",
    "- **`maximum`, `fmax`**: Element-wise max (`fmax` ignores NaN)\n",
    "- **`minimum`, `fmin`**: Element-wise min (`fmin` ignores NaN)\n",
    "- **`mod`**: Element-wise modulus (remainder)\n",
    "- **`copysign`**: Copy sign from second to first array\n",
    "- **`greater`, `greater_equal`, `less`, `less_equal`, `equal`, `not_equal`**: Element-wise comparison (Boolean output)\n",
    "- **`logical_and`**: Element-wise AND (`&`)\n",
    "- **`logical_or`**: Element-wise OR (`|`)\n",
    "- **`logical_xor`**: Element-wise XOR (`^`)\n"
   ]
  },
  {
   "cell_type": "markdown",
   "metadata": {},
   "source": [
    "**Conditional Logic with np.where**\n",
    "- np.where(condition, x, y) → picks x if True, else y.\n",
    "- Supports both arrays or scalars at place of x and y"
   ]
  },
  {
   "cell_type": "code",
   "execution_count": null,
   "metadata": {},
   "outputs": [],
   "source": [
    "xarr = np.array([1.1, 1.2, 1.3, 1.4, 1.5])\n",
    "yarr = np.array([2.1, 2.2, 2.3, 2.4, 2.5])\n",
    "cond = np.array([True, False, True, True, False])\n",
    "\n",
    "#list comprehensive ->\n",
    "resutl = [(x if c else y) for x , y ,c in zip(xarr , yarr , cond)] #slow not vectorized\n",
    "#numpy np.where\n",
    "result1 = np.where(cond , xarr , yarr)"
   ]
  },
  {
   "cell_type": "markdown",
   "metadata": {},
   "source": [
    "**MATHEMATICAL & STATISTICAL METHODS**\n",
    "1. Use either arr.method() or np.method(arr).\n",
    "2. Functions like mean, sum can optiaonally take axis, reducing dimension by 1.\n",
    "3. Accumulation functions (like cumsum, cumprod) return intermediate results:\n",
    "- Same shape if axis is given\n",
    "- Flattened 1D if no axis is given"
   ]
  },
  {
   "cell_type": "markdown",
   "metadata": {},
   "source": [
    "### Basic Array Statistical Methods\n",
    "\n",
    "- **sum**: Total of elements (0 if array is empty)  \n",
    "- **mean**: Average (NaN if array is empty)  \n",
    "- **std**, **var**: Standard deviation & variance  \n",
    "- **min**, **max**: Smallest & largest values  \n",
    "- **argmin**, **argmax**: Indices of min & max values  \n",
    "- **cumsum**: Cumulative sum (starts at 0)  \n",
    "- **cumprod**: Cumulative product (starts at 1)\n"
   ]
  },
  {
   "cell_type": "code",
   "execution_count": null,
   "metadata": {},
   "outputs": [],
   "source": []
  },
  {
   "cell_type": "markdown",
   "metadata": {},
   "source": [
    "**Methods for Boolean Indexing**\n",
    "- `True` → 1, `False` → 0  \n",
    "- `any` → True if **at least one** element is True  \n",
    "- `all` → True if **all** elements are True  \n",
    "- Also works with non-boolean arrays (non-zero = True)"
   ]
  },
  {
   "cell_type": "code",
   "execution_count": null,
   "metadata": {},
   "outputs": [],
   "source": [
    "arr = rng.standard_normal(100)\n",
    "(arr > 0).sum() #50 -> total number of elements where it is true\n",
    "(arr <= 0).sum() #50 -> total number of elements where it is true\n",
    "bools = np.array([False, False, True, False])\n",
    "bools.any() #-> true\n",
    "bools.all() #-> false"
   ]
  },
  {
   "cell_type": "markdown",
   "metadata": {},
   "source": [
    "**SORTING**\n",
    "- np.sort(arr) -> returns a copy and arr.sort() -> modifies the original arr\n",
    "- In ndarray you can specify axis to sort along"
   ]
  },
  {
   "cell_type": "code",
   "execution_count": null,
   "metadata": {},
   "outputs": [],
   "source": []
  },
  {
   "cell_type": "markdown",
   "metadata": {},
   "source": [
    "**UNIQUE AND OTHER SET LOGIC**\n",
    "**Set Logic Functions**\n",
    "\n",
    "- `unique(x)` → Sorted unique elements in `x`\n",
    "- `intersect1d(x, y)` → Sorted common elements in `x` and `y`\n",
    "- `union1d(x, y)` → Sorted union of elements from `x` and `y`\n",
    "- `in1d(x, y)` → Boolean array: is each element of `x` in `y`?\n",
    "- `setdiff1d(x, y)` → Elements in `x` **not** in `y`\n",
    "- `setxor1d(x, y)` → Elements in `x` or `y` but **not both**\n"
   ]
  },
  {
   "cell_type": "code",
   "execution_count": null,
   "metadata": {},
   "outputs": [],
   "source": []
  },
  {
   "cell_type": "markdown",
   "metadata": {},
   "source": [
    "**FILE I/O IN NUMPY**\n",
    "- `np.save('file', arr)` → Saves array to `.npy` file (binary format).\n",
    "- `np.load('file.npy')` → Loads array from `.npy` file.\n",
    "- `np.savez('file.npz', a=arr1, b=arr2)` → Saves multiple arrays in an archive (`.npz`).\n",
    "- `np.load('file.npz')` → Loads `.npz` as a dict-like object (`arch['a']`).\n",
    "- `np.savez_compressed('file.npz', a=arr1, b=arr2)` → Same as `savez`, but compressed."
   ]
  },
  {
   "cell_type": "code",
   "execution_count": null,
   "metadata": {},
   "outputs": [],
   "source": [
    "\n"
   ]
  },
  {
   "cell_type": "markdown",
   "metadata": {},
   "source": [
    "**LINEAR ALGEBRA**\n",
    "-  x.dot(y) is equivalent to np.dot(x, y) (array method and numpy method)\n",
    "-  from numpy.linalg import inv, qr (for inverse and qr)\n",
    "-----\n",
    "- diag: Get/set diagonal elements.\n",
    "- dot: Matrix multiplication.\n",
    "- trace: Sum of diagonal elements.\n",
    "- det: Matrix determinant.\n",
    "- eig: Eigenvalues & eigenvectors.\n",
    "- inv: Inverse of a matrix.\n",
    "- pinv: Moore-Penrose pseudoinverse.\n",
    "- qr: QR decomposition.\n",
    "- svd: Singular value decomposition.\n",
    "- solve: Solve the linear system Ax = b for x, where A is a square matrix\n",
    "- lstsq:Compute the least-squares solution to Ax = b"
   ]
  },
  {
   "cell_type": "markdown",
   "metadata": {},
   "source": [
    "**Random Walk**\n",
    "- A sequence of steps where each step is determined randomly.\n",
    "- Useful in simulations, finance, physics, and probability theory.\n",
    "---\n",
    "**🔹 Key Concepts**\n",
    "- **Steps**: Randomly +1 or -1 (like flipping a coin).\n",
    "- **Cumulative Sum**: Tracks the position over time.\n",
    "---\n",
    "**⚠️ Pro Tips**\n",
    "- `argmax()` scans the entire array even after finding True (not efficient for huge data).\n",
    "- Use `np.flatnonzero()[0]` as a faster alternative in large datasets.\n",
    "- Set seeds with `default_rng(seed=12345)` to make your results reproducible.\n"
   ]
  },
  {
   "cell_type": "code",
   "execution_count": null,
   "metadata": {},
   "outputs": [],
   "source": [
    "#OLD PYTHONIC WAY\n",
    "import random\n",
    "positions = 0\n",
    "walk = [positions]\n",
    "nsteps = 1000\n",
    "for _ in range(1000):\n",
    "    step = -1 if random.randint(0,1) else 1\n",
    "    positions += step\n",
    "    walk.append(positions)\n",
    "\n",
    "import matplotlib.pyplot as plt\n",
    "plt.plot(walk[:100])"
   ]
  },
  {
   "cell_type": "code",
   "execution_count": null,
   "metadata": {},
   "outputs": [],
   "source": [
    "import numpy as np  # COOL NUMPIONIC WAY😂\n",
    "\n",
    "nsteps = 1000  # Total steps in the random walk\n",
    "rng = np.random.default_rng(seed=12345)  # Random number generator (seeded for repeatability)\n",
    "draws = rng.integers(0, 2, size=nsteps)  # Generate 0s and 1s (like coin flips), total = nsteps\n",
    "steps = np.where(draws == 0, 1, -1)  # Convert 0 to +1 (step forward), 1 to -1 (step backward)\n",
    "\n",
    "walk = steps.cumsum()  # Cumulative sum to get the path (position at each step)\n",
    "walk.min()  # Minimum position reached during the walk (lowest point)\n",
    "walk.max()  # Maximum position reached during the walk (highest point)\n",
    "\n",
    "(np.abs(walk) >= 10)  # Boolean array: True where distance from origin is >= 10 (either direction)\n",
    "np.argmax(walk >= 10)  # First index where walk crosses +10 (argmax finds first True but scans full array)"
   ]
  },
  {
   "cell_type": "markdown",
   "metadata": {},
   "source": [
    "**SIMULATING MANY RANDOM WALKS AT ONCE**\n",
    "- By passing a tuple in rng you can create a 2 dimensional array to creat multiples such walks\n"
   ]
  },
  {
   "cell_type": "code",
   "execution_count": null,
   "metadata": {},
   "outputs": [],
   "source": [
    "nwalks = 5000  # Total number of random walks\n",
    "nsteps = 1000  # Steps per walk\n",
    "rng = np.random.default_rng(seed=12345)  # Random number generator\n",
    "draws = rng.integers(0, 1, size=(nsteps, nwalks))  # 0s for each step in each walk\n",
    "steps = np.where(draws > 0, 1, -1)  # Convert 0 ➡️ -1, and >0 ➡️ +1\n",
    "walk = steps.cumsum(axis=0)  # Cumulative sum along rows (axis=0) ➡️ position at each step\n",
    "hits30 = (np.abs(walk) >= 30).any(axis=0)  # True if any position crosses ±30 in a walk\n",
    "hits30.sum()  # Count of walks that hit 30 or -30 at least once"
   ]
  },
  {
   "cell_type": "markdown",
   "metadata": {},
   "source": [
    "nonzero - function\n",
    "np.random.random\n",
    "np.pad()\n",
    "np.nan\n",
    "np.diag\n",
    "np.unravelindex"
   ]
  }
 ],
 "metadata": {
  "kernelspec": {
   "display_name": "pydata-book",
   "language": "python",
   "name": "python3"
  },
  "language_info": {
   "codemirror_mode": {
    "name": "ipython",
    "version": 3
   },
   "file_extension": ".py",
   "mimetype": "text/x-python",
   "name": "python",
   "nbconvert_exporter": "python",
   "pygments_lexer": "ipython3",
   "version": "3.10.14"
  }
 },
 "nbformat": 4,
 "nbformat_minor": 2
}
