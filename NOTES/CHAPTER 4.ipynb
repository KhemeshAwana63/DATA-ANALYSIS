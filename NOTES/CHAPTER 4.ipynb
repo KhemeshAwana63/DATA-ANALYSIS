{
 "cells": [
  {
   "cell_type": "markdown",
   "metadata": {},
   "source": [
    "##### CHAPTER 4 -> NumPy Basics and Vectorized Computation"
   ]
  },
  {
   "cell_type": "markdown",
   "metadata": {},
   "source": [
    "**NumPy -> numerical python**\n",
    "- (pandas , ScyPy , sckit learn) -> behind the scene are based on Numpy\n",
    "- Extremely fast ( C - Based algorithm)\n",
    "- ndarray (python list on steroid)\n",
    "- vectorized maths -> complete array operations without needing a loop\n",
    "- I/O -> read/write array to disks \n",
    "- C API (python meets C/C++)\n",
    "------\n",
    "**WHY NUMPY IS FAST**\n",
    "- Contigous memory location\n",
    "- No type checking (C behind the scene saying \"i got it captain\"😋)\n",
    "- vectorized operations\n",
    "- we can treat ndarray like as if we are playing with constants"
   ]
  },
  {
   "cell_type": "code",
   "execution_count": null,
   "metadata": {},
   "outputs": [],
   "source": [
    "\"\"\"SOME BASIC FUNCTIONALITIES\"\"\"\n",
    "import numpy as np\n",
    "array = np.array([[1,2,3],[3,4,5],[7,8,9]])\n",
    "array.dtype #checks the data type\n",
    "array.shape #checks the shape (tuple)\n",
    "array.ndim #checks the dimensions"
   ]
  },
  {
   "cell_type": "markdown",
   "metadata": {},
   "source": [
    "**CREATING NUMPY ARRAYS**"
   ]
  },
  {
   "cell_type": "code",
   "execution_count": null,
   "metadata": {},
   "outputs": [],
   "source": [
    "python_list = [1,2,3,4,5,6]\n",
    "python_nested_list = [[1,2,3],[4,5,6]]\n",
    "numpy_array = np.array(python_list) #conversts list to array\n",
    "numpy_muldim_array = np.array(python_nested_list) #converts to mul dim array\n",
    "\n",
    "np.zeros((2,3),dtype=np.float64) #shape/length , dtype(optional)\n",
    "np.ones(6,dtype=np.int64) #similar\n",
    "np.empty((4,5)) #don't assume it would return only zero it can also return garbage values(uninitialized memory)\n",
    "np.arange(6) #lost brother of python range function\n",
    "np.asarray([1, 2, 3])  # Converts input to ndarray (doesn't copy if already ndarray)\n",
    "np.ones_like(np.array([[1, 2], [3, 4]]))  # Returns an array of ones with the same shape and type as the input array\n",
    "np.zeros_like(np.array([[1, 2], [3, 4]]))  # Returns an array of zeros with the same shape and type as the input array\n",
    "np.empty_like(np.array([[1, 2], [3, 4]]))  # Returns an uninitialized array with the same shape and type as the input array (could be garbage values)\n",
    "np.full((3, 4), 7)  # Returns a new array of shape (3, 4) filled with the value 7\n",
    "np.full_like(np.array([[1, 2], [3, 4]]), 9)  # Returns an array with the same shape and type as the input, filled with 9\n",
    "np.eye(4)  # Creates a 4x4 identity matrix (ones on diagonal, zeros elsewhere)\n",
    "np.identity(3)  # Creates a 3x3 identity matrix (same as eye but simpler syntax for square matrices)"
   ]
  },
  {
   "cell_type": "markdown",
   "metadata": {},
   "source": [
    "**DATA TYPES**\n",
    "- You can explicitly choose the data type for an array\n",
    "- calling astype creates new copy even if you convert to same dtype\n",
    "- numpy.string_ data type is fixed length data type so if you try to store <br>\n",
    "data longer then allocated length it gets chopped off without a warning\n",
    "- float to integer conversions truncates the value after the decimal\n",
    "-----\n",
    "- you can use the type code to specify the data type <br>\n",
    "int (i/u 1/2/4/8) <br> float (f 2/4/8/16) <br> complex (c 8/16/32) <br> bool (?), object (O), string (S), unicode (U)\n",
    "\n"
   ]
  },
  {
   "cell_type": "code",
   "execution_count": 17,
   "metadata": {},
   "outputs": [],
   "source": [
    "array_1 = np.array([1,2,3,4],dtype=np.float64) #normal way\n",
    "array_2 = np.array([5,6,7],dtype=\"int64\") #short hand method\n",
    "array_3 = array_2.astype(np.float64)\n",
    "array_4 = array_2.astype(array.dtype) #taking other array dtype attribute"
   ]
  },
  {
   "cell_type": "code",
   "execution_count": null,
   "metadata": {},
   "outputs": [],
   "source": [
    "string_array = np.array([\"hello\",\"world\"],dtype=\"S4\")\n",
    "#array([b'hell', b'worl'], dtype='|S4')"
   ]
  },
  {
   "cell_type": "markdown",
   "metadata": {},
   "source": [
    "**ARITHMATIC OPERATION**\n",
    "- Arithmatic operations here are done on equal size/shape array\n",
    "- Evaluating operations b/w differently sized arrays is called broadcasting"
   ]
  },
  {
   "cell_type": "code",
   "execution_count": null,
   "metadata": {},
   "outputs": [],
   "source": [
    "#basically the operation happens to corresponding elements\n",
    "array_5 = np.array([[2,3,4],[5,6,7],[7,8,9]])\n",
    "array_5 * 5 #similarly multiplication , division , subtraction , exponent etc\n",
    "array_5 + array_5 #similarly multiplication , division , subtraction ,exponent etc\n",
    "array_5 > array_4 #gives a boolean array making comparison of corresponding elements"
   ]
  }
 ],
 "metadata": {
  "kernelspec": {
   "display_name": "pydata-book",
   "language": "python",
   "name": "python3"
  },
  "language_info": {
   "codemirror_mode": {
    "name": "ipython",
    "version": 3
   },
   "file_extension": ".py",
   "mimetype": "text/x-python",
   "name": "python",
   "nbconvert_exporter": "python",
   "pygments_lexer": "ipython3",
   "version": "3.10.14"
  }
 },
 "nbformat": 4,
 "nbformat_minor": 2
}
